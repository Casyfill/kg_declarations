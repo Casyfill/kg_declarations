{
 "cells": [
  {
   "cell_type": "markdown",
   "metadata": {},
   "source": [
    "[here is a good \"pandas cookbook\" series of notebooks on pandas](https://github.com/jvns/pandas-cookbook)"
   ]
  },
  {
   "cell_type": "code",
   "execution_count": 1,
   "metadata": {},
   "outputs": [],
   "source": [
    "import pandas as pd\n"
   ]
  },
  {
   "cell_type": "code",
   "execution_count": 2,
   "metadata": {},
   "outputs": [],
   "source": [
    "%matplotlib inline\n",
    "import pylab as plt\n",
    "plt.style.use('fivethirtyeight')"
   ]
  },
  {
   "cell_type": "code",
   "execution_count": 3,
   "metadata": {},
   "outputs": [
    {
     "data": {
      "text/html": [
       "<div>\n",
       "<style scoped>\n",
       "    .dataframe tbody tr th:only-of-type {\n",
       "        vertical-align: middle;\n",
       "    }\n",
       "\n",
       "    .dataframe tbody tr th {\n",
       "        vertical-align: top;\n",
       "    }\n",
       "\n",
       "    .dataframe thead th {\n",
       "        text-align: right;\n",
       "    }\n",
       "</style>\n",
       "<table border=\"1\" class=\"dataframe\">\n",
       "  <thead>\n",
       "    <tr style=\"text-align: right;\">\n",
       "      <th></th>\n",
       "      <th>№</th>\n",
       "      <th>Флаг</th>\n",
       "      <th>Название</th>\n",
       "      <th>Административный центр</th>\n",
       "      <th>Площадь,км2</th>\n",
       "      <th>Население, чел.</th>\n",
       "    </tr>\n",
       "  </thead>\n",
       "  <tbody>\n",
       "    <tr>\n",
       "      <th>0</th>\n",
       "      <td>1</td>\n",
       "      <td>Flag of Chuy Province.svg</td>\n",
       "      <td>Чуйская область</td>\n",
       "      <td>г. Бишкек[28]</td>\n",
       "      <td>20 200</td>\n",
       "      <td>814 900</td>\n",
       "    </tr>\n",
       "    <tr>\n",
       "      <th>1</th>\n",
       "      <td>2</td>\n",
       "      <td>Issyk kul obl flag.svg</td>\n",
       "      <td>Иссык-Кульская область</td>\n",
       "      <td>г. Каракол</td>\n",
       "      <td>43 100</td>\n",
       "      <td>444 500</td>\n",
       "    </tr>\n",
       "    <tr>\n",
       "      <th>2</th>\n",
       "      <td>3</td>\n",
       "      <td>Flag of Talas Province Kyrgyzstan.svg</td>\n",
       "      <td>Таласская область</td>\n",
       "      <td>г. Талас</td>\n",
       "      <td>11 400</td>\n",
       "      <td>231 800</td>\n",
       "    </tr>\n",
       "    <tr>\n",
       "      <th>3</th>\n",
       "      <td>4</td>\n",
       "      <td>Naryn obl flag.svg</td>\n",
       "      <td>Нарынская область</td>\n",
       "      <td>г. Нарын</td>\n",
       "      <td>45 200</td>\n",
       "      <td>262 100</td>\n",
       "    </tr>\n",
       "    <tr>\n",
       "      <th>4</th>\n",
       "      <td>5</td>\n",
       "      <td>Флага нет[29]</td>\n",
       "      <td>Джалал-Абадская область</td>\n",
       "      <td>г. Джалал-Абад</td>\n",
       "      <td>33 700</td>\n",
       "      <td>1 036 700</td>\n",
       "    </tr>\n",
       "    <tr>\n",
       "      <th>5</th>\n",
       "      <td>6</td>\n",
       "      <td>Флага нет[29]</td>\n",
       "      <td>Ошская область</td>\n",
       "      <td>г. Ош</td>\n",
       "      <td>29 000</td>\n",
       "      <td>1 130 900</td>\n",
       "    </tr>\n",
       "    <tr>\n",
       "      <th>6</th>\n",
       "      <td>7</td>\n",
       "      <td>Batken obl flag.svg</td>\n",
       "      <td>Баткенская область</td>\n",
       "      <td>г. Баткен</td>\n",
       "      <td>17 000</td>\n",
       "      <td>441 100</td>\n",
       "    </tr>\n",
       "  </tbody>\n",
       "</table>\n",
       "</div>"
      ],
      "text/plain": [
       "   №                                   Флаг                 Название  \\\n",
       "0  1              Flag of Chuy Province.svg          Чуйская область   \n",
       "1  2                 Issyk kul obl flag.svg   Иссык-Кульская область   \n",
       "2  3  Flag of Talas Province Kyrgyzstan.svg        Таласская область   \n",
       "3  4                     Naryn obl flag.svg        Нарынская область   \n",
       "4  5                          Флага нет[29]  Джалал-Абадская область   \n",
       "5  6                          Флага нет[29]           Ошская область   \n",
       "6  7                    Batken obl flag.svg       Баткенская область   \n",
       "\n",
       "  Административный центр Площадь,км2 Население, чел.  \n",
       "0          г. Бишкек[28]      20 200         814 900  \n",
       "1             г. Каракол      43 100         444 500  \n",
       "2               г. Талас      11 400         231 800  \n",
       "3               г. Нарын      45 200         262 100  \n",
       "4         г. Джалал-Абад      33 700       1 036 700  \n",
       "5                  г. Ош      29 000       1 130 900  \n",
       "6              г. Баткен      17 000         441 100  "
      ]
     },
     "execution_count": 3,
     "metadata": {},
     "output_type": "execute_result"
    }
   ],
   "source": [
    "df = pd.read_table('example_table.tsv')\n",
    "df"
   ]
  },
  {
   "cell_type": "code",
   "execution_count": 4,
   "metadata": {},
   "outputs": [
    {
     "data": {
      "text/html": [
       "<div>\n",
       "<style scoped>\n",
       "    .dataframe tbody tr th:only-of-type {\n",
       "        vertical-align: middle;\n",
       "    }\n",
       "\n",
       "    .dataframe tbody tr th {\n",
       "        vertical-align: top;\n",
       "    }\n",
       "\n",
       "    .dataframe thead th {\n",
       "        text-align: right;\n",
       "    }\n",
       "</style>\n",
       "<table border=\"1\" class=\"dataframe\">\n",
       "  <thead>\n",
       "    <tr style=\"text-align: right;\">\n",
       "      <th></th>\n",
       "      <th>№</th>\n",
       "      <th>Флаг</th>\n",
       "      <th>Название</th>\n",
       "      <th>Административный центр</th>\n",
       "      <th>Площадь,км2</th>\n",
       "      <th>Население, чел.</th>\n",
       "    </tr>\n",
       "  </thead>\n",
       "  <tbody>\n",
       "    <tr>\n",
       "      <th>0</th>\n",
       "      <td>1</td>\n",
       "      <td>Flag of Chuy Province.svg</td>\n",
       "      <td>Чуйская область</td>\n",
       "      <td>г. Бишкек[28]</td>\n",
       "      <td>20 200</td>\n",
       "      <td>814 900</td>\n",
       "    </tr>\n",
       "    <tr>\n",
       "      <th>1</th>\n",
       "      <td>2</td>\n",
       "      <td>Issyk kul obl flag.svg</td>\n",
       "      <td>Иссык-Кульская область</td>\n",
       "      <td>г. Каракол</td>\n",
       "      <td>43 100</td>\n",
       "      <td>444 500</td>\n",
       "    </tr>\n",
       "    <tr>\n",
       "      <th>2</th>\n",
       "      <td>3</td>\n",
       "      <td>Flag of Talas Province Kyrgyzstan.svg</td>\n",
       "      <td>Таласская область</td>\n",
       "      <td>г. Талас</td>\n",
       "      <td>11 400</td>\n",
       "      <td>231 800</td>\n",
       "    </tr>\n",
       "  </tbody>\n",
       "</table>\n",
       "</div>"
      ],
      "text/plain": [
       "   №                                   Флаг                Название  \\\n",
       "0  1              Flag of Chuy Province.svg         Чуйская область   \n",
       "1  2                 Issyk kul obl flag.svg  Иссык-Кульская область   \n",
       "2  3  Flag of Talas Province Kyrgyzstan.svg       Таласская область   \n",
       "\n",
       "  Административный центр Площадь,км2 Население, чел.  \n",
       "0          г. Бишкек[28]      20 200         814 900  \n",
       "1             г. Каракол      43 100         444 500  \n",
       "2               г. Талас      11 400         231 800  "
      ]
     },
     "execution_count": 4,
     "metadata": {},
     "output_type": "execute_result"
    }
   ],
   "source": [
    "df.head(3)"
   ]
  },
  {
   "cell_type": "code",
   "execution_count": 5,
   "metadata": {},
   "outputs": [
    {
     "data": {
      "text/html": [
       "<div>\n",
       "<style scoped>\n",
       "    .dataframe tbody tr th:only-of-type {\n",
       "        vertical-align: middle;\n",
       "    }\n",
       "\n",
       "    .dataframe tbody tr th {\n",
       "        vertical-align: top;\n",
       "    }\n",
       "\n",
       "    .dataframe thead th {\n",
       "        text-align: right;\n",
       "    }\n",
       "</style>\n",
       "<table border=\"1\" class=\"dataframe\">\n",
       "  <thead>\n",
       "    <tr style=\"text-align: right;\">\n",
       "      <th></th>\n",
       "      <th>№</th>\n",
       "      <th>Флаг</th>\n",
       "      <th>Название</th>\n",
       "      <th>Административный центр</th>\n",
       "      <th>Площадь,км2</th>\n",
       "      <th>Население, чел.</th>\n",
       "    </tr>\n",
       "  </thead>\n",
       "  <tbody>\n",
       "    <tr>\n",
       "      <th>4</th>\n",
       "      <td>5</td>\n",
       "      <td>Флага нет[29]</td>\n",
       "      <td>Джалал-Абадская область</td>\n",
       "      <td>г. Джалал-Абад</td>\n",
       "      <td>33 700</td>\n",
       "      <td>1 036 700</td>\n",
       "    </tr>\n",
       "    <tr>\n",
       "      <th>5</th>\n",
       "      <td>6</td>\n",
       "      <td>Флага нет[29]</td>\n",
       "      <td>Ошская область</td>\n",
       "      <td>г. Ош</td>\n",
       "      <td>29 000</td>\n",
       "      <td>1 130 900</td>\n",
       "    </tr>\n",
       "    <tr>\n",
       "      <th>6</th>\n",
       "      <td>7</td>\n",
       "      <td>Batken obl flag.svg</td>\n",
       "      <td>Баткенская область</td>\n",
       "      <td>г. Баткен</td>\n",
       "      <td>17 000</td>\n",
       "      <td>441 100</td>\n",
       "    </tr>\n",
       "  </tbody>\n",
       "</table>\n",
       "</div>"
      ],
      "text/plain": [
       "   №                 Флаг                 Название Административный центр  \\\n",
       "4  5        Флага нет[29]  Джалал-Абадская область         г. Джалал-Абад   \n",
       "5  6        Флага нет[29]           Ошская область                  г. Ош   \n",
       "6  7  Batken obl flag.svg       Баткенская область              г. Баткен   \n",
       "\n",
       "  Площадь,км2 Население, чел.  \n",
       "4      33 700       1 036 700  \n",
       "5      29 000       1 130 900  \n",
       "6      17 000         441 100  "
      ]
     },
     "execution_count": 5,
     "metadata": {},
     "output_type": "execute_result"
    }
   ],
   "source": [
    "df.tail(3)"
   ]
  },
  {
   "cell_type": "code",
   "execution_count": 6,
   "metadata": {},
   "outputs": [
    {
     "data": {
      "text/plain": [
       "0    20 200\n",
       "1    43 100\n",
       "2    11 400\n",
       "3    45 200\n",
       "4    33 700\n",
       "5    29 000\n",
       "6    17 000\n",
       "Name: Площадь,км2, dtype: object"
      ]
     },
     "execution_count": 6,
     "metadata": {},
     "output_type": "execute_result"
    }
   ],
   "source": [
    "df['Площадь,км2']"
   ]
  },
  {
   "cell_type": "code",
   "execution_count": 7,
   "metadata": {},
   "outputs": [],
   "source": [
    "df['Площадь,км2'] = df['Площадь,км2'].str.replace(' ', '').astype(int)"
   ]
  },
  {
   "cell_type": "code",
   "execution_count": 8,
   "metadata": {},
   "outputs": [
    {
     "data": {
      "text/plain": [
       "<matplotlib.axes._subplots.AxesSubplot at 0x1144f9fd0>"
      ]
     },
     "execution_count": 8,
     "metadata": {},
     "output_type": "execute_result"
    },
    {
     "data": {
      "image/png": "[encoded data removed]",
      "text/plain": [
       "<matplotlib.figure.Figure at 0x1144f9550>"
      ]
     },
     "metadata": {},
     "output_type": "display_data"
    }
   ],
   "source": [
    "df['Площадь,км2'].hist()"
   ]
  },
  {
   "cell_type": "code",
   "execution_count": 9,
   "metadata": {},
   "outputs": [
    {
     "data": {
      "text/plain": [
       "Index(['№', 'Флаг', 'Название', 'Административный центр', 'Площадь,км2',\n",
       "       'Население, чел.'],\n",
       "      dtype='object')"
      ]
     },
     "execution_count": 9,
     "metadata": {},
     "output_type": "execute_result"
    }
   ],
   "source": [
    "df.columns"
   ]
  },
  {
   "cell_type": "code",
   "execution_count": 10,
   "metadata": {},
   "outputs": [],
   "source": [
    "df['Население, чел.'] = df['Население, чел.'].str.replace(' ', '').astype(int)"
   ]
  },
  {
   "cell_type": "code",
   "execution_count": 13,
   "metadata": {},
   "outputs": [
    {
     "data": {
      "text/plain": [
       "<matplotlib.axes._subplots.AxesSubplot at 0x118203860>"
      ]
     },
     "execution_count": 13,
     "metadata": {},
     "output_type": "execute_result"
    },
    {
     "data": {
      "image/png": "[encoded data removed]",
      "text/plain": [
       "<matplotlib.figure.Figure at 0x1181e8f28>"
      ]
     },
     "metadata": {},
     "output_type": "display_data"
    }
   ],
   "source": [
    "df.plot(kind='scatter', x='Население, чел.', y='Площадь,км2', figsize=(4,4), s=20)"
   ]
  },
  {
   "cell_type": "code",
   "execution_count": 14,
   "metadata": {},
   "outputs": [],
   "source": [
    "df['density'] = df['Население, чел.'] / df['Площадь,км2']"
   ]
  },
  {
   "cell_type": "code",
   "execution_count": 15,
   "metadata": {},
   "outputs": [
    {
     "data": {
      "text/plain": [
       "<matplotlib.axes._subplots.AxesSubplot at 0x118ee6470>"
      ]
     },
     "execution_count": 15,
     "metadata": {},
     "output_type": "execute_result"
    },
    {
     "data": {
      "image/png": "[encoded data removed]",
      "text/plain": [
       "<matplotlib.figure.Figure at 0x1182ad080>"
      ]
     },
     "metadata": {},
     "output_type": "display_data"
    }
   ],
   "source": [
    "df['density'].hist()"
   ]
  },
  {
   "cell_type": "markdown",
   "metadata": {},
   "source": [
    "[more on plotting in pandas](http://pandas.pydata.org/pandas-docs/version/0.15.0/visualization.html)"
   ]
  }
 ],
 "metadata": {
  "kernelspec": {
   "display_name": "Python 3",
   "language": "python",
   "name": "python3"
  },
  "language_info": {
   "codemirror_mode": {
    "name": "ipython",
    "version": 3
   },
   "file_extension": ".py",
   "mimetype": "text/x-python",
   "name": "python",
   "nbconvert_exporter": "python",
   "pygments_lexer": "ipython3",
   "version": "3.6.1"
  }
 },
 "nbformat": 4,
 "nbformat_minor": 2
}
