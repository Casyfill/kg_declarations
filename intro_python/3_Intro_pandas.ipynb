{
 "cells": [
  {
   "cell_type": "markdown",
   "metadata": {},
   "source": [
    "[here is a good \"pandas cookbook\" series of notebooks on pandas](https://github.com/jvns/pandas-cookbook)"
   ]
  },
  {
   "cell_type": "code",
   "execution_count": 1,
   "metadata": {},
   "outputs": [],
   "source": [
    "import pandas as pd\n"
   ]
  },
  {
   "cell_type": "code",
   "execution_count": 8,
   "metadata": {},
   "outputs": [],
   "source": [
    "%matplotlib inline\n",
    "import pylab as plt\n",
    "plt.style.use('fivethirtyeight')"
   ]
  },
  {
   "cell_type": "code",
   "execution_count": 2,
   "metadata": {},
   "outputs": [
    {
     "data": {
      "text/html": [
       "<div>\n",
       "<style scoped>\n",
       "    .dataframe tbody tr th:only-of-type {\n",
       "        vertical-align: middle;\n",
       "    }\n",
       "\n",
       "    .dataframe tbody tr th {\n",
       "        vertical-align: top;\n",
       "    }\n",
       "\n",
       "    .dataframe thead th {\n",
       "        text-align: right;\n",
       "    }\n",
       "</style>\n",
       "<table border=\"1\" class=\"dataframe\">\n",
       "  <thead>\n",
       "    <tr style=\"text-align: right;\">\n",
       "      <th></th>\n",
       "      <th>№</th>\n",
       "      <th>Область/Город</th>\n",
       "      <th>Административный центр</th>\n",
       "      <th>Площадь, км²</th>\n",
       "      <th>Население, чел.</th>\n",
       "      <th>Плотность, чел./км²</th>\n",
       "    </tr>\n",
       "  </thead>\n",
       "  <tbody>\n",
       "    <tr>\n",
       "      <th>0</th>\n",
       "      <td>1</td>\n",
       "      <td>Астана — столица, город республиканского значения</td>\n",
       "      <td>NaN</td>\n",
       "      <td>682</td>\n",
       "      <td>1 006 570</td>\n",
       "      <td>1 475,91</td>\n",
       "    </tr>\n",
       "    <tr>\n",
       "      <th>1</th>\n",
       "      <td>2</td>\n",
       "      <td>Алма-Ата — город республиканского значения</td>\n",
       "      <td>NaN</td>\n",
       "      <td>710</td>\n",
       "      <td>1 772 779</td>\n",
       "      <td>2 821,21</td>\n",
       "    </tr>\n",
       "    <tr>\n",
       "      <th>2</th>\n",
       "      <td>3</td>\n",
       "      <td>Акмолинская область</td>\n",
       "      <td>Кокшетау</td>\n",
       "      <td>146 219</td>\n",
       "      <td>737 443</td>\n",
       "      <td>5,04</td>\n",
       "    </tr>\n",
       "    <tr>\n",
       "      <th>3</th>\n",
       "      <td>4</td>\n",
       "      <td>Актюбинская область</td>\n",
       "      <td>Актобе</td>\n",
       "      <td>300 629</td>\n",
       "      <td>851 339</td>\n",
       "      <td>2,83</td>\n",
       "    </tr>\n",
       "    <tr>\n",
       "      <th>4</th>\n",
       "      <td>5</td>\n",
       "      <td>Алматинская область</td>\n",
       "      <td>Талдыкорган</td>\n",
       "      <td>223 911</td>\n",
       "      <td>2 003 063</td>\n",
       "      <td>8,70</td>\n",
       "    </tr>\n",
       "    <tr>\n",
       "      <th>5</th>\n",
       "      <td>6</td>\n",
       "      <td>Атырауская область</td>\n",
       "      <td>Атырау</td>\n",
       "      <td>118 631</td>\n",
       "      <td>613 880</td>\n",
       "      <td>5,17</td>\n",
       "    </tr>\n",
       "    <tr>\n",
       "      <th>6</th>\n",
       "      <td>7</td>\n",
       "      <td>Восточно-Казахстанская область</td>\n",
       "      <td>Усть-Каменогорск</td>\n",
       "      <td>283 226</td>\n",
       "      <td>1 386 208</td>\n",
       "      <td>4,89</td>\n",
       "    </tr>\n",
       "    <tr>\n",
       "      <th>7</th>\n",
       "      <td>8</td>\n",
       "      <td>Жамбылская область</td>\n",
       "      <td>Тараз</td>\n",
       "      <td>144 264</td>\n",
       "      <td>1 116 384</td>\n",
       "      <td>7,74</td>\n",
       "    </tr>\n",
       "    <tr>\n",
       "      <th>8</th>\n",
       "      <td>9</td>\n",
       "      <td>Западно-Казахстанская область</td>\n",
       "      <td>Уральск</td>\n",
       "      <td>151 339</td>\n",
       "      <td>643 874</td>\n",
       "      <td>4,25</td>\n",
       "    </tr>\n",
       "    <tr>\n",
       "      <th>9</th>\n",
       "      <td>10</td>\n",
       "      <td>Карагандинская область</td>\n",
       "      <td>Караганда</td>\n",
       "      <td>427 982</td>\n",
       "      <td>1 381 501</td>\n",
       "      <td>3,23</td>\n",
       "    </tr>\n",
       "    <tr>\n",
       "      <th>10</th>\n",
       "      <td>11</td>\n",
       "      <td>Костанайская область</td>\n",
       "      <td>Костанай</td>\n",
       "      <td>196 001</td>\n",
       "      <td>876 833</td>\n",
       "      <td>4,47</td>\n",
       "    </tr>\n",
       "    <tr>\n",
       "      <th>11</th>\n",
       "      <td>12</td>\n",
       "      <td>Кызылординская область</td>\n",
       "      <td>Кызылорда</td>\n",
       "      <td>226 019</td>\n",
       "      <td>777 730</td>\n",
       "      <td>3,44</td>\n",
       "    </tr>\n",
       "    <tr>\n",
       "      <th>12</th>\n",
       "      <td>13</td>\n",
       "      <td>Мангистауская область</td>\n",
       "      <td>Актау</td>\n",
       "      <td>165 642</td>\n",
       "      <td>650 509</td>\n",
       "      <td>3,93</td>\n",
       "    </tr>\n",
       "    <tr>\n",
       "      <th>13</th>\n",
       "      <td>14</td>\n",
       "      <td>Павлодарская область</td>\n",
       "      <td>Павлодар</td>\n",
       "      <td>124 755</td>\n",
       "      <td>755 847</td>\n",
       "      <td>6,06</td>\n",
       "    </tr>\n",
       "    <tr>\n",
       "      <th>14</th>\n",
       "      <td>15</td>\n",
       "      <td>Северо-Казахстанская область</td>\n",
       "      <td>Петропавловск</td>\n",
       "      <td>97 993</td>\n",
       "      <td>560 553</td>\n",
       "      <td>5,72</td>\n",
       "    </tr>\n",
       "    <tr>\n",
       "      <th>15</th>\n",
       "      <td>16</td>\n",
       "      <td>Южно-Казахстанская область</td>\n",
       "      <td>Шымкент</td>\n",
       "      <td>117 249</td>\n",
       "      <td>2 899 853</td>\n",
       "      <td>24,73</td>\n",
       "    </tr>\n",
       "  </tbody>\n",
       "</table>\n",
       "</div>"
      ],
      "text/plain": [
       "     №                                      Область/Город  \\\n",
       "0    1  Астана — столица, город республиканского значения   \n",
       "1    2         Алма-Ата — город республиканского значения   \n",
       "2    3                                Акмолинская область   \n",
       "3    4                                Актюбинская область   \n",
       "4    5                                Алматинская область   \n",
       "5    6                                 Атырауская область   \n",
       "6    7                     Восточно-Казахстанская область   \n",
       "7    8                                 Жамбылская область   \n",
       "8    9                      Западно-Казахстанская область   \n",
       "9   10                             Карагандинская область   \n",
       "10  11                               Костанайская область   \n",
       "11  12                             Кызылординская область   \n",
       "12  13                              Мангистауская область   \n",
       "13  14                               Павлодарская область   \n",
       "14  15                       Северо-Казахстанская область   \n",
       "15  16                         Южно-Казахстанская область   \n",
       "\n",
       "   Административный центр Площадь, км² Население, чел. Плотность, чел./км²  \n",
       "0                     NaN          682       1 006 570            1 475,91  \n",
       "1                     NaN          710       1 772 779            2 821,21  \n",
       "2                Кокшетау      146 219         737 443                5,04  \n",
       "3                  Актобе      300 629         851 339                2,83  \n",
       "4             Талдыкорган      223 911       2 003 063                8,70  \n",
       "5                  Атырау      118 631         613 880                5,17  \n",
       "6        Усть-Каменогорск      283 226       1 386 208                4,89  \n",
       "7                   Тараз      144 264       1 116 384                7,74  \n",
       "8                 Уральск      151 339         643 874                4,25  \n",
       "9               Караганда      427 982       1 381 501                3,23  \n",
       "10               Костанай      196 001         876 833                4,47  \n",
       "11              Кызылорда      226 019         777 730                3,44  \n",
       "12                  Актау      165 642         650 509                3,93  \n",
       "13               Павлодар      124 755         755 847                6,06  \n",
       "14          Петропавловск       97 993         560 553                5,72  \n",
       "15                Шымкент      117 249       2 899 853               24,73  "
      ]
     },
     "execution_count": 2,
     "metadata": {},
     "output_type": "execute_result"
    }
   ],
   "source": [
    "df = pd.read_table('example_table.tsv')\n",
    "df"
   ]
  },
  {
   "cell_type": "code",
   "execution_count": 17,
   "metadata": {},
   "outputs": [
    {
     "data": {
      "text/html": [
       "<div>\n",
       "<style scoped>\n",
       "    .dataframe tbody tr th:only-of-type {\n",
       "        vertical-align: middle;\n",
       "    }\n",
       "\n",
       "    .dataframe tbody tr th {\n",
       "        vertical-align: top;\n",
       "    }\n",
       "\n",
       "    .dataframe thead th {\n",
       "        text-align: right;\n",
       "    }\n",
       "</style>\n",
       "<table border=\"1\" class=\"dataframe\">\n",
       "  <thead>\n",
       "    <tr style=\"text-align: right;\">\n",
       "      <th></th>\n",
       "      <th>№</th>\n",
       "      <th>Область/Город</th>\n",
       "      <th>Административный центр</th>\n",
       "      <th>Площадь, км²</th>\n",
       "      <th>Население, чел.</th>\n",
       "      <th>Плотность, чел./км²</th>\n",
       "    </tr>\n",
       "  </thead>\n",
       "  <tbody>\n",
       "    <tr>\n",
       "      <th>0</th>\n",
       "      <td>1</td>\n",
       "      <td>Астана — столица, город республиканского значения</td>\n",
       "      <td>NaN</td>\n",
       "      <td>682</td>\n",
       "      <td>1 006 570</td>\n",
       "      <td>1 475,91</td>\n",
       "    </tr>\n",
       "    <tr>\n",
       "      <th>1</th>\n",
       "      <td>2</td>\n",
       "      <td>Алма-Ата — город республиканского значения</td>\n",
       "      <td>NaN</td>\n",
       "      <td>710</td>\n",
       "      <td>1 772 779</td>\n",
       "      <td>2 821,21</td>\n",
       "    </tr>\n",
       "    <tr>\n",
       "      <th>2</th>\n",
       "      <td>3</td>\n",
       "      <td>Акмолинская область</td>\n",
       "      <td>Кокшетау</td>\n",
       "      <td>146219</td>\n",
       "      <td>737 443</td>\n",
       "      <td>5,04</td>\n",
       "    </tr>\n",
       "  </tbody>\n",
       "</table>\n",
       "</div>"
      ],
      "text/plain": [
       "   №                                      Область/Город  \\\n",
       "0  1  Астана — столица, город республиканского значения   \n",
       "1  2         Алма-Ата — город республиканского значения   \n",
       "2  3                                Акмолинская область   \n",
       "\n",
       "  Административный центр  Площадь, км² Население, чел. Плотность, чел./км²  \n",
       "0                    NaN           682       1 006 570            1 475,91  \n",
       "1                    NaN           710       1 772 779            2 821,21  \n",
       "2               Кокшетау        146219         737 443                5,04  "
      ]
     },
     "execution_count": 17,
     "metadata": {},
     "output_type": "execute_result"
    }
   ],
   "source": [
    "df.head(3)"
   ]
  },
  {
   "cell_type": "code",
   "execution_count": 3,
   "metadata": {},
   "outputs": [
    {
     "data": {
      "text/html": [
       "<div>\n",
       "<style scoped>\n",
       "    .dataframe tbody tr th:only-of-type {\n",
       "        vertical-align: middle;\n",
       "    }\n",
       "\n",
       "    .dataframe tbody tr th {\n",
       "        vertical-align: top;\n",
       "    }\n",
       "\n",
       "    .dataframe thead th {\n",
       "        text-align: right;\n",
       "    }\n",
       "</style>\n",
       "<table border=\"1\" class=\"dataframe\">\n",
       "  <thead>\n",
       "    <tr style=\"text-align: right;\">\n",
       "      <th></th>\n",
       "      <th>№</th>\n",
       "      <th>Область/Город</th>\n",
       "      <th>Административный центр</th>\n",
       "      <th>Площадь, км²</th>\n",
       "      <th>Население, чел.</th>\n",
       "      <th>Плотность, чел./км²</th>\n",
       "    </tr>\n",
       "  </thead>\n",
       "  <tbody>\n",
       "    <tr>\n",
       "      <th>13</th>\n",
       "      <td>14</td>\n",
       "      <td>Павлодарская область</td>\n",
       "      <td>Павлодар</td>\n",
       "      <td>124 755</td>\n",
       "      <td>755 847</td>\n",
       "      <td>6,06</td>\n",
       "    </tr>\n",
       "    <tr>\n",
       "      <th>14</th>\n",
       "      <td>15</td>\n",
       "      <td>Северо-Казахстанская область</td>\n",
       "      <td>Петропавловск</td>\n",
       "      <td>97 993</td>\n",
       "      <td>560 553</td>\n",
       "      <td>5,72</td>\n",
       "    </tr>\n",
       "    <tr>\n",
       "      <th>15</th>\n",
       "      <td>16</td>\n",
       "      <td>Южно-Казахстанская область</td>\n",
       "      <td>Шымкент</td>\n",
       "      <td>117 249</td>\n",
       "      <td>2 899 853</td>\n",
       "      <td>24,73</td>\n",
       "    </tr>\n",
       "  </tbody>\n",
       "</table>\n",
       "</div>"
      ],
      "text/plain": [
       "     №                 Область/Город Административный центр Площадь, км²  \\\n",
       "13  14          Павлодарская область               Павлодар      124 755   \n",
       "14  15  Северо-Казахстанская область          Петропавловск       97 993   \n",
       "15  16    Южно-Казахстанская область                Шымкент      117 249   \n",
       "\n",
       "   Население, чел. Плотность, чел./км²  \n",
       "13         755 847                6,06  \n",
       "14         560 553                5,72  \n",
       "15       2 899 853               24,73  "
      ]
     },
     "execution_count": 3,
     "metadata": {},
     "output_type": "execute_result"
    }
   ],
   "source": [
    "df.tail(3)"
   ]
  },
  {
   "cell_type": "code",
   "execution_count": 6,
   "metadata": {},
   "outputs": [
    {
     "data": {
      "text/plain": [
       "0        682\n",
       "1        710\n",
       "2     146219\n",
       "3     300629\n",
       "4     223911\n",
       "5     118631\n",
       "6     283226\n",
       "7     144264\n",
       "8     151339\n",
       "9     427982\n",
       "10    196001\n",
       "11    226019\n",
       "12    165642\n",
       "13    124755\n",
       "14     97993\n",
       "15    117249\n",
       "Name: Площадь, км², dtype: int64"
      ]
     },
     "execution_count": 6,
     "metadata": {},
     "output_type": "execute_result"
    }
   ],
   "source": [
    "df['Площадь, км²']"
   ]
  },
  {
   "cell_type": "code",
   "execution_count": 5,
   "metadata": {},
   "outputs": [],
   "source": [
    "df['Площадь, км²'] = df['Площадь, км²'].str.replace(' ', '').astype(int)"
   ]
  },
  {
   "cell_type": "code",
   "execution_count": 9,
   "metadata": {},
   "outputs": [
    {
     "data": {
      "text/plain": [
       "<matplotlib.axes._subplots.AxesSubplot at 0x1190f7908>"
      ]
     },
     "execution_count": 9,
     "metadata": {},
     "output_type": "execute_result"
    },
    {
     "data": {
      "image/png": "[encoded data removed]",
      "text/plain": [
       "<matplotlib.figure.Figure at 0x11909bf60>"
      ]
     },
     "metadata": {},
     "output_type": "display_data"
    }
   ],
   "source": [
    "df['Площадь, км²'].hist()"
   ]
  },
  {
   "cell_type": "code",
   "execution_count": 10,
   "metadata": {},
   "outputs": [
    {
     "data": {
      "text/plain": [
       "Index(['№', 'Область/Город', 'Административный центр', 'Площадь, км²',\n",
       "       'Население, чел.', 'Плотность, чел./км²'],\n",
       "      dtype='object')"
      ]
     },
     "execution_count": 10,
     "metadata": {},
     "output_type": "execute_result"
    }
   ],
   "source": [
    "df.columns"
   ]
  },
  {
   "cell_type": "code",
   "execution_count": 11,
   "metadata": {},
   "outputs": [],
   "source": [
    "df['Население, чел.'] = df['Население, чел.'].str.replace(' ', '').astype(int)"
   ]
  },
  {
   "cell_type": "code",
   "execution_count": 12,
   "metadata": {},
   "outputs": [],
   "source": [
    "df['city'] = df['Область/Город'].str.contains('город республиканского значения')"
   ]
  },
  {
   "cell_type": "code",
   "execution_count": 13,
   "metadata": {},
   "outputs": [
    {
     "data": {
      "text/html": [
       "<div>\n",
       "<style scoped>\n",
       "    .dataframe tbody tr th:only-of-type {\n",
       "        vertical-align: middle;\n",
       "    }\n",
       "\n",
       "    .dataframe tbody tr th {\n",
       "        vertical-align: top;\n",
       "    }\n",
       "\n",
       "    .dataframe thead th {\n",
       "        text-align: right;\n",
       "    }\n",
       "</style>\n",
       "<table border=\"1\" class=\"dataframe\">\n",
       "  <thead>\n",
       "    <tr style=\"text-align: right;\">\n",
       "      <th></th>\n",
       "      <th>№</th>\n",
       "      <th>Область/Город</th>\n",
       "      <th>Административный центр</th>\n",
       "      <th>Площадь, км²</th>\n",
       "      <th>Население, чел.</th>\n",
       "      <th>Плотность, чел./км²</th>\n",
       "      <th>city</th>\n",
       "    </tr>\n",
       "  </thead>\n",
       "  <tbody>\n",
       "    <tr>\n",
       "      <th>0</th>\n",
       "      <td>1</td>\n",
       "      <td>Астана — столица, город республиканского значения</td>\n",
       "      <td>NaN</td>\n",
       "      <td>682</td>\n",
       "      <td>1006570</td>\n",
       "      <td>1 475,91</td>\n",
       "      <td>True</td>\n",
       "    </tr>\n",
       "    <tr>\n",
       "      <th>1</th>\n",
       "      <td>2</td>\n",
       "      <td>Алма-Ата — город республиканского значения</td>\n",
       "      <td>NaN</td>\n",
       "      <td>710</td>\n",
       "      <td>1772779</td>\n",
       "      <td>2 821,21</td>\n",
       "      <td>True</td>\n",
       "    </tr>\n",
       "    <tr>\n",
       "      <th>2</th>\n",
       "      <td>3</td>\n",
       "      <td>Акмолинская область</td>\n",
       "      <td>Кокшетау</td>\n",
       "      <td>146219</td>\n",
       "      <td>737443</td>\n",
       "      <td>5,04</td>\n",
       "      <td>False</td>\n",
       "    </tr>\n",
       "  </tbody>\n",
       "</table>\n",
       "</div>"
      ],
      "text/plain": [
       "   №                                      Область/Город  \\\n",
       "0  1  Астана — столица, город республиканского значения   \n",
       "1  2         Алма-Ата — город республиканского значения   \n",
       "2  3                                Акмолинская область   \n",
       "\n",
       "  Административный центр  Площадь, км²  Население, чел. Плотность, чел./км²  \\\n",
       "0                    NaN           682          1006570            1 475,91   \n",
       "1                    NaN           710          1772779            2 821,21   \n",
       "2               Кокшетау        146219           737443                5,04   \n",
       "\n",
       "    city  \n",
       "0   True  \n",
       "1   True  \n",
       "2  False  "
      ]
     },
     "execution_count": 13,
     "metadata": {},
     "output_type": "execute_result"
    }
   ],
   "source": [
    "df.head(3)"
   ]
  },
  {
   "cell_type": "code",
   "execution_count": 14,
   "metadata": {},
   "outputs": [
    {
     "data": {
      "text/plain": [
       "<matplotlib.axes._subplots.AxesSubplot at 0x119109da0>"
      ]
     },
     "execution_count": 14,
     "metadata": {},
     "output_type": "execute_result"
    },
    {
     "data": {
      "image/png": "[encoded data removed]",
      "text/plain": [
       "<matplotlib.figure.Figure at 0x119174b70>"
      ]
     },
     "metadata": {},
     "output_type": "display_data"
    }
   ],
   "source": [
    "df.plot(kind='scatter', x='Население, чел.', y='Площадь, км²', figsize=(4,4), s=20)"
   ]
  },
  {
   "cell_type": "code",
   "execution_count": 15,
   "metadata": {},
   "outputs": [
    {
     "data": {
      "image/png": "[encoded data removed]",
      "text/plain": [
       "<matplotlib.figure.Figure at 0x11924dcc0>"
      ]
     },
     "metadata": {},
     "output_type": "display_data"
    }
   ],
   "source": [
    "fig, ax = plt.subplots(figsize=(10,10))\n",
    "colors = ['red', 'blue']\n",
    "\n",
    "for n, sdf in df.groupby('city'):\n",
    "    sdf.plot(kind='scatter', x='Население, чел.', y='Площадь, км²', ax=ax, label=n, color=colors[n], s=100)"
   ]
  },
  {
   "cell_type": "markdown",
   "metadata": {},
   "source": [
    "[more on plotting in pandas](http://pandas.pydata.org/pandas-docs/version/0.15.0/visualization.html)"
   ]
  },
  {
   "cell_type": "code",
   "execution_count": null,
   "metadata": {},
   "outputs": [],
   "source": []
  },
  {
   "cell_type": "code",
   "execution_count": null,
   "metadata": {},
   "outputs": [],
   "source": []
  },
  {
   "cell_type": "code",
   "execution_count": null,
   "metadata": {},
   "outputs": [],
   "source": []
  }
 ],
 "metadata": {
  "kernelspec": {
   "display_name": "Python 3",
   "language": "python",
   "name": "python3"
  },
  "language_info": {
   "codemirror_mode": {
    "name": "ipython",
    "version": 3
   },
   "file_extension": ".py",
   "mimetype": "text/x-python",
   "name": "python",
   "nbconvert_exporter": "python",
   "pygments_lexer": "ipython3",
   "version": "3.6.1"
  }
 },
 "nbformat": 4,
 "nbformat_minor": 2
}
