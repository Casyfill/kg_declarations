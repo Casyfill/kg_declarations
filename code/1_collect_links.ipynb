{
 "cells": [
  {
   "cell_type": "code",
   "execution_count": 1,
   "metadata": {},
   "outputs": [],
   "source": [
    "# this sets ipython to show plots / images as parts of the notebook\n",
    "%matplotlib inline\n",
    "import pylab as plt # this imports pylab (one of the \"faces\" of matplotlib) into notebook\n",
    "plt.style.use('fivethirtyeight') # this way we pre-style all plots to \"538\" style\n",
    "\n",
    "import pandas as pd  # pandas helps processing the data\n",
    "import os  # everything os/local_machine related"
   ]
  },
  {
   "cell_type": "markdown",
   "metadata": {},
   "source": [
    "# 1. Get links to all tables\n",
    "inspired by [this tutorial](http://docs.python-guide.org/en/latest/scenarios/scrape/)"
   ]
  },
  {
   "cell_type": "code",
   "execution_count": 2,
   "metadata": {},
   "outputs": [],
   "source": [
    "import requests as rq\n",
    "from lxml import html"
   ]
  },
  {
   "cell_type": "code",
   "execution_count": 3,
   "metadata": {},
   "outputs": [],
   "source": [
    "path = 'http://mkk.gov.kg/contents/view/id/621/pid/157'\n",
    "rupath = 'http://mkk.gov.kg/index/setru'"
   ]
  },
  {
   "cell_type": "code",
   "execution_count": 4,
   "metadata": {},
   "outputs": [],
   "source": [
    "s = rq.Session()"
   ]
  },
  {
   "cell_type": "code",
   "execution_count": 5,
   "metadata": {},
   "outputs": [
    {
     "data": {
      "text/plain": [
       "<Response [200]>"
      ]
     },
     "execution_count": 5,
     "metadata": {},
     "output_type": "execute_result"
    }
   ],
   "source": [
    "s.get(rupath)"
   ]
  },
  {
   "cell_type": "code",
   "execution_count": 6,
   "metadata": {},
   "outputs": [],
   "source": [
    "page= s.get(path)\n",
    "page.encoding = 'utf-8'\n",
    "links_page = html.fromstring(page.text)"
   ]
  },
  {
   "cell_type": "code",
   "execution_count": 7,
   "metadata": {},
   "outputs": [],
   "source": [
    "names = links_page.xpath('//tr/td[2]/p/a/span/text()')"
   ]
  },
  {
   "cell_type": "code",
   "execution_count": 8,
   "metadata": {},
   "outputs": [
    {
     "data": {
      "text/plain": [
       "['Абдылдаев Мыктыбек Юсупович',\n",
       " 'Абжалиев Алиярбек Токобекович',\n",
       " 'Айдаров Салайдин Абдираевич']"
      ]
     },
     "execution_count": 8,
     "metadata": {},
     "output_type": "execute_result"
    }
   ],
   "source": [
    "names[:3]"
   ]
  },
  {
   "cell_type": "code",
   "execution_count": 9,
   "metadata": {},
   "outputs": [],
   "source": [
    "links = links_page.xpath(\"//tr/td[2]/p/a/@href\")"
   ]
  },
  {
   "cell_type": "code",
   "execution_count": 10,
   "metadata": {},
   "outputs": [
    {
     "data": {
      "text/plain": [
       "['/public/images/file_library/201707172348227.xlsx',\n",
       " '/public/images/file_library/2017071723484910.xlsx',\n",
       " '/public/images/file_library/2017071723500415.xlsx']"
      ]
     },
     "execution_count": 10,
     "metadata": {},
     "output_type": "execute_result"
    }
   ],
   "source": [
    "links[:3]"
   ]
  },
  {
   "cell_type": "code",
   "execution_count": 11,
   "metadata": {},
   "outputs": [],
   "source": [
    "links_df = pd.DataFrame({'names':names, 'links':links})"
   ]
  },
  {
   "cell_type": "code",
   "execution_count": 12,
   "metadata": {},
   "outputs": [
    {
     "data": {
      "text/html": [
       "<div>\n",
       "<style scoped>\n",
       "    .dataframe tbody tr th:only-of-type {\n",
       "        vertical-align: middle;\n",
       "    }\n",
       "\n",
       "    .dataframe tbody tr th {\n",
       "        vertical-align: top;\n",
       "    }\n",
       "\n",
       "    .dataframe thead th {\n",
       "        text-align: right;\n",
       "    }\n",
       "</style>\n",
       "<table border=\"1\" class=\"dataframe\">\n",
       "  <thead>\n",
       "    <tr style=\"text-align: right;\">\n",
       "      <th></th>\n",
       "      <th>links</th>\n",
       "      <th>names</th>\n",
       "    </tr>\n",
       "  </thead>\n",
       "  <tbody>\n",
       "    <tr>\n",
       "      <th>116</th>\n",
       "      <td>/public/images/file_library/2017072015572413.xlsx</td>\n",
       "      <td>Эргешов Алмазбек Манасбекович</td>\n",
       "    </tr>\n",
       "    <tr>\n",
       "      <th>117</th>\n",
       "      <td>/public/images/file_library/2017072015574912.xlsx</td>\n",
       "      <td>Юсуров Абдумажит Лелезович</td>\n",
       "    </tr>\n",
       "    <tr>\n",
       "      <th>118</th>\n",
       "      <td>/public/images/file_library/201707201558281.xlsx</td>\n",
       "      <td>Есенбаева Бакыт Усенбековна</td>\n",
       "    </tr>\n",
       "  </tbody>\n",
       "</table>\n",
       "</div>"
      ],
      "text/plain": [
       "                                                 links  \\\n",
       "116  /public/images/file_library/2017072015572413.xlsx   \n",
       "117  /public/images/file_library/2017072015574912.xlsx   \n",
       "118   /public/images/file_library/201707201558281.xlsx   \n",
       "\n",
       "                             names  \n",
       "116  Эргешов Алмазбек Манасбекович  \n",
       "117     Юсуров Абдумажит Лелезович  \n",
       "118    Есенбаева Бакыт Усенбековна  "
      ]
     },
     "execution_count": 12,
     "metadata": {},
     "output_type": "execute_result"
    }
   ],
   "source": [
    "links_df.tail(3)"
   ]
  },
  {
   "cell_type": "code",
   "execution_count": 13,
   "metadata": {},
   "outputs": [],
   "source": [
    "links_df['links'] = 'http://mkk.gov.kg' + links_df['links'].str.strip()"
   ]
  },
  {
   "cell_type": "code",
   "execution_count": 14,
   "metadata": {},
   "outputs": [
    {
     "data": {
      "text/html": [
       "<div>\n",
       "<style scoped>\n",
       "    .dataframe tbody tr th:only-of-type {\n",
       "        vertical-align: middle;\n",
       "    }\n",
       "\n",
       "    .dataframe tbody tr th {\n",
       "        vertical-align: top;\n",
       "    }\n",
       "\n",
       "    .dataframe thead th {\n",
       "        text-align: right;\n",
       "    }\n",
       "</style>\n",
       "<table border=\"1\" class=\"dataframe\">\n",
       "  <thead>\n",
       "    <tr style=\"text-align: right;\">\n",
       "      <th></th>\n",
       "      <th>links</th>\n",
       "      <th>names</th>\n",
       "    </tr>\n",
       "  </thead>\n",
       "  <tbody>\n",
       "    <tr>\n",
       "      <th>116</th>\n",
       "      <td>http://mkk.gov.kg/public/images/file_library/2...</td>\n",
       "      <td>Эргешов Алмазбек Манасбекович</td>\n",
       "    </tr>\n",
       "    <tr>\n",
       "      <th>117</th>\n",
       "      <td>http://mkk.gov.kg/public/images/file_library/2...</td>\n",
       "      <td>Юсуров Абдумажит Лелезович</td>\n",
       "    </tr>\n",
       "    <tr>\n",
       "      <th>118</th>\n",
       "      <td>http://mkk.gov.kg/public/images/file_library/2...</td>\n",
       "      <td>Есенбаева Бакыт Усенбековна</td>\n",
       "    </tr>\n",
       "  </tbody>\n",
       "</table>\n",
       "</div>"
      ],
      "text/plain": [
       "                                                 links  \\\n",
       "116  http://mkk.gov.kg/public/images/file_library/2...   \n",
       "117  http://mkk.gov.kg/public/images/file_library/2...   \n",
       "118  http://mkk.gov.kg/public/images/file_library/2...   \n",
       "\n",
       "                             names  \n",
       "116  Эргешов Алмазбек Манасбекович  \n",
       "117     Юсуров Абдумажит Лелезович  \n",
       "118    Есенбаева Бакыт Усенбековна  "
      ]
     },
     "execution_count": 14,
     "metadata": {},
     "output_type": "execute_result"
    }
   ],
   "source": [
    "links_df.tail(3)"
   ]
  },
  {
   "cell_type": "code",
   "execution_count": 15,
   "metadata": {},
   "outputs": [],
   "source": [
    "links_df.to_csv('../data/all_links.csv')"
   ]
  },
  {
   "cell_type": "markdown",
   "metadata": {},
   "source": [
    "## 2. Collect all Tables\n",
    "and store them locally"
   ]
  },
  {
   "cell_type": "code",
   "execution_count": 16,
   "metadata": {},
   "outputs": [],
   "source": [
    "import time"
   ]
  },
  {
   "cell_type": "code",
   "execution_count": 19,
   "metadata": {},
   "outputs": [
    {
     "name": "stdout",
     "output_type": "stream",
     "text": [
      "201707172348227.xlsx\n",
      "2017071723484910.xlsx\n",
      "2017071723500415.xlsx\n",
      "201707172350173.xlsx\n",
      "2017071723502914.xlsx\n",
      "201707172350406.xlsx\n",
      "201707172350518.xlsx\n",
      "201707180057594.xlsx\n",
      "2017071800582415.xlsx\n",
      "2017072020044114.xlsx\n",
      "201707180059406.xlsx\n",
      "2017071801001413.xlsx\n",
      "2017071801004710.xlsx\n",
      "201707180101122.xlsx\n",
      "201707180101408.xlsx\n",
      "201707180102186.xlsx\n",
      "201707201632226.xlsx\n",
      "201707201632345.xlsx\n",
      "201707180200036.xlsx\n",
      "201707180201104.xlsx\n",
      "2017071802015215.xlsx\n",
      "2017071802022511.xlsx\n",
      "2017071802030312.xlsx\n",
      "2017071802033113.xlsx\n",
      "2017071802041314.xlsx\n",
      "201707180204526.xlsx\n",
      "201707180205225.xlsx\n",
      "2017071802055513.xlsx\n",
      "201707180206319.xlsx\n",
      "201707180207083.xlsx\n",
      "201707180207320.xlsx\n",
      "201707180351093.xlsx\n",
      "2017071803512512.xlsx\n",
      "201707180351416.xlsx\n",
      "201707180352083.xlsx\n",
      "201707180352338.xlsx\n",
      "201707180352497.xlsx\n",
      "2017071803532611.xlsx\n",
      "201707180353508.xlsx\n",
      "201707180354079.xlsx\n",
      "201707180354273.xlsx\n",
      "2017071803544511.xlsx\n",
      "201707180355387.xlsx\n",
      "201707180355582.xlsx\n",
      "201707181540551.xlsx\n",
      "201707181541276.xlsx\n",
      "201707181541492.xlsx\n",
      "2017071815421012.xlsx\n",
      "201707181542302.xlsx\n",
      "201707181542512.xlsx\n",
      "201707181543101.xlsx\n",
      "2017071815433112.xlsx\n",
      "201707181543560.xlsx\n",
      "201707181544192.xlsx\n",
      "201707181544393.xlsx\n",
      "201707181545044.xlsx\n",
      "2017071815463612.xlsx\n",
      "201707181547022.xlsx\n",
      "2017071815472412.xlsx\n",
      "2017071815474910.xlsx\n",
      "201707181548266.xlsx\n",
      "201707181549062.xlsx\n",
      "201707181549282.xlsx\n",
      "201707181549490.xlsx\n",
      "2017071815500813.xlsx\n",
      "201707181722327.xlsx\n",
      "201707181723391.xlsx\n",
      "2017071817240614.xlsx\n",
      "2017071817242711.xlsx\n",
      "201707181724468.xlsx\n",
      "201707181725027.xlsx\n",
      "2017071817252413.xlsx\n",
      "201707181725451.xlsx\n",
      "201707181726044.xlsx\n",
      "201707181726214.xlsx\n",
      "201707181726403.xlsx\n",
      "201707181726546.xlsx\n",
      "2017071817271112.xlsx\n",
      "201707181727361.xlsx\n",
      "201707172351168.xlsx\n",
      "201707201632499.xlsx\n",
      "201707181728393.xlsx\n",
      "201707181728570.xlsx\n",
      "201707181729150.xlsx\n",
      "201707181729344.xlsx\n",
      "201707181729505.xlsx\n",
      "201707181730087.xlsx\n",
      "2017071817302511.xlsx\n",
      "201707181730446.xlsx\n",
      "2017071817310913.xlsx\n",
      "201707181731296.xlsx\n",
      "2017071817314810.xlsx\n",
      "2017071817321014.xlsx\n",
      "201707181732486.xlsx\n",
      "201707201633133.xlsx\n",
      "201707181734024.xlsx\n",
      "2017071817342114.xlsx\n",
      "2017071817344211.xlsx\n",
      "2017071817350113.xlsx\n",
      "201707201633262.xlsx\n",
      "201707201546380.xlsx\n",
      "201707201547396.xlsx\n",
      "201707201547575.xlsx\n",
      "201707201633396.xlsx\n",
      "2017072015484013.xlsx\n",
      "201707201548598.xlsx\n",
      "201707201550142.xlsx\n",
      "201707201553098.xlsx\n",
      "201707201553313.xlsx\n",
      "201707201553585.xlsx\n",
      "2017072015542511.xlsx\n",
      "201707201554457.xlsx\n",
      "201707201555107.xlsx\n",
      "201707201556138.xlsx\n",
      "2017072015564214.xlsx\n",
      "2017072015570515.xlsx\n",
      "2017072015572413.xlsx\n",
      "2017072015574912.xlsx\n",
      "201707201558281.xlsx\n"
     ]
    }
   ],
   "source": [
    "failed = []\n",
    "\n",
    "for link in links_df['links'].tolist():  # we need to have full link here\n",
    "    filename = os.path.basename(link)  # crossplatformer, works both on Mac and Windows\n",
    "    print(filename)\n",
    "    time.sleep(1)\n",
    "    try:\n",
    "        filename = link.split('/')[-1]\n",
    "        r = s.get(link)\n",
    "        r.raise_for_status()  # if something goes wrong, this will raise an error\n",
    "        \n",
    "        with open(os.path.join('..', 'data', 'raw', filename), \"wb\") as code:\n",
    "            code.write(r.content)\n",
    "    except Exception as inst:\n",
    "        failed.append(link)\n",
    "        print('error:', link, inst)\n",
    "\n",
    "if len(failed)> 0:\n",
    "    print(f'Failed to download {len(failed)} declarations')"
   ]
  },
  {
   "cell_type": "code",
   "execution_count": 20,
   "metadata": {},
   "outputs": [
    {
     "data": {
      "text/plain": [
       "[]"
      ]
     },
     "execution_count": 20,
     "metadata": {},
     "output_type": "execute_result"
    }
   ],
   "source": [
    "failed"
   ]
  },
  {
   "cell_type": "code",
   "execution_count": null,
   "metadata": {},
   "outputs": [],
   "source": [
    "# alternative, a little longer, a little simpler to grasp, won't work with\n",
    "failed_pandas = []\n",
    "\n",
    "for link in links_df['links'].tolist():\n",
    "    filename = os.path.basename(link)  # crossplatformer, works both on Mac and Windows\n",
    "    try:\n",
    "        df = pd.read_excel(link)\n",
    "        df.to_excel(os.path.join('..', 'data', 'raw', filename))\n",
    "\n",
    "    except Exception as inst:\n",
    "        failed_pandas.append(link)\n",
    "        print(link, inst)\n",
    "        \n",
    "print(f'Failed to download {len(failed_pandas)} declarations')"
   ]
  },
  {
   "cell_type": "code",
   "execution_count": null,
   "metadata": {},
   "outputs": [],
   "source": []
  }
 ],
 "metadata": {
  "kernelspec": {
   "display_name": "Python 3",
   "language": "python",
   "name": "python3"
  },
  "language_info": {
   "codemirror_mode": {
    "name": "ipython",
    "version": 3
   },
   "file_extension": ".py",
   "mimetype": "text/x-python",
   "name": "python",
   "nbconvert_exporter": "python",
   "pygments_lexer": "ipython3",
   "version": "3.6.1"
  }
 },
 "nbformat": 4,
 "nbformat_minor": 2
}
