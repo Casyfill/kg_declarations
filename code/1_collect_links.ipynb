{
 "cells": [
  {
   "cell_type": "code",
   "execution_count": 3,
   "metadata": {},
   "outputs": [],
   "source": [
    "# this sets ipython to show plots / images as parts of the notebook\n",
    "%matplotlib inline\n",
    "import pylab as plt # this imports pylab (one of the \"faces\" of matplotlib) into notebook\n",
    "plt.style.use('fivethirtyeight') # this way we pre-style all plots to \"538\" style\n",
    "\n",
    "import pandas as pd  # pandas helps processing the data\n",
    "import os  # everything os/local_machine related"
   ]
  },
  {
   "cell_type": "markdown",
   "metadata": {},
   "source": [
    "# 1. Get links to all tables\n",
    "inspired by [this tutorial](http://docs.python-guide.org/en/latest/scenarios/scrape/)"
   ]
  },
  {
   "cell_type": "code",
   "execution_count": 4,
   "metadata": {},
   "outputs": [],
   "source": [
    "import requests as rq\n",
    "from lxml import html"
   ]
  },
  {
   "cell_type": "code",
   "execution_count": 5,
   "metadata": {},
   "outputs": [],
   "source": [
    "path = 'http://mkk.gov.kg/contents/view/id/621/pid/157'\n",
    "rupath = 'http://mkk.gov.kg/index/setru'"
   ]
  },
  {
   "cell_type": "code",
   "execution_count": 6,
   "metadata": {},
   "outputs": [],
   "source": [
    "s = rq.Session()"
   ]
  },
  {
   "cell_type": "code",
   "execution_count": 7,
   "metadata": {},
   "outputs": [
    {
     "data": {
      "text/plain": [
       "<Response [200]>"
      ]
     },
     "execution_count": 7,
     "metadata": {},
     "output_type": "execute_result"
    }
   ],
   "source": [
    "s.get(rupath)"
   ]
  },
  {
   "cell_type": "code",
   "execution_count": 8,
   "metadata": {},
   "outputs": [],
   "source": [
    "page= s.get(path)\n",
    "page.encoding = 'utf-8'\n",
    "links_page = html.fromstring(page.text)"
   ]
  },
  {
   "cell_type": "code",
   "execution_count": 9,
   "metadata": {},
   "outputs": [],
   "source": [
    "names = links_page.xpath('//tr/td[2]/p/a/span/text()')"
   ]
  },
  {
   "cell_type": "code",
   "execution_count": 10,
   "metadata": {},
   "outputs": [
    {
     "data": {
      "text/plain": [
       "['Абдылдаев Мыктыбек Юсупович',\n",
       " 'Абжалиев Алиярбек Токобекович',\n",
       " 'Айдаров Салайдин Абдираевич']"
      ]
     },
     "execution_count": 10,
     "metadata": {},
     "output_type": "execute_result"
    }
   ],
   "source": [
    "names[:3]"
   ]
  },
  {
   "cell_type": "code",
   "execution_count": 11,
   "metadata": {},
   "outputs": [],
   "source": [
    "links = links_page.xpath(\"//tr/td[2]/p/a/@href\")"
   ]
  },
  {
   "cell_type": "code",
   "execution_count": 12,
   "metadata": {},
   "outputs": [
    {
     "data": {
      "text/plain": [
       "['/public/images/file_library/201707172348227.xlsx',\n",
       " '/public/images/file_library/2017071723484910.xlsx',\n",
       " '/public/images/file_library/2017071723500415.xlsx']"
      ]
     },
     "execution_count": 12,
     "metadata": {},
     "output_type": "execute_result"
    }
   ],
   "source": [
    "links[:3]"
   ]
  },
  {
   "cell_type": "code",
   "execution_count": 13,
   "metadata": {},
   "outputs": [],
   "source": [
    "links_df = pd.DataFrame({'names':names, 'links':links})"
   ]
  },
  {
   "cell_type": "code",
   "execution_count": 14,
   "metadata": {},
   "outputs": [
    {
     "data": {
      "text/html": [
       "<div>\n",
       "<style scoped>\n",
       "    .dataframe tbody tr th:only-of-type {\n",
       "        vertical-align: middle;\n",
       "    }\n",
       "\n",
       "    .dataframe tbody tr th {\n",
       "        vertical-align: top;\n",
       "    }\n",
       "\n",
       "    .dataframe thead th {\n",
       "        text-align: right;\n",
       "    }\n",
       "</style>\n",
       "<table border=\"1\" class=\"dataframe\">\n",
       "  <thead>\n",
       "    <tr style=\"text-align: right;\">\n",
       "      <th></th>\n",
       "      <th>links</th>\n",
       "      <th>names</th>\n",
       "    </tr>\n",
       "  </thead>\n",
       "  <tbody>\n",
       "    <tr>\n",
       "      <th>116</th>\n",
       "      <td>/public/images/file_library/2017072015572413.xlsx</td>\n",
       "      <td>Эргешов Алмазбек Манасбекович</td>\n",
       "    </tr>\n",
       "    <tr>\n",
       "      <th>117</th>\n",
       "      <td>/public/images/file_library/2017072015574912.xlsx</td>\n",
       "      <td>Юсуров Абдумажит Лелезович</td>\n",
       "    </tr>\n",
       "    <tr>\n",
       "      <th>118</th>\n",
       "      <td>/public/images/file_library/201707201558281.xlsx</td>\n",
       "      <td>Есенбаева Бакыт Усенбековна</td>\n",
       "    </tr>\n",
       "  </tbody>\n",
       "</table>\n",
       "</div>"
      ],
      "text/plain": [
       "                                                 links  \\\n",
       "116  /public/images/file_library/2017072015572413.xlsx   \n",
       "117  /public/images/file_library/2017072015574912.xlsx   \n",
       "118   /public/images/file_library/201707201558281.xlsx   \n",
       "\n",
       "                             names  \n",
       "116  Эргешов Алмазбек Манасбекович  \n",
       "117     Юсуров Абдумажит Лелезович  \n",
       "118    Есенбаева Бакыт Усенбековна  "
      ]
     },
     "execution_count": 14,
     "metadata": {},
     "output_type": "execute_result"
    }
   ],
   "source": [
    "links_df.tail(3)"
   ]
  },
  {
   "cell_type": "code",
   "execution_count": 15,
   "metadata": {},
   "outputs": [],
   "source": [
    "links_df['links'] = 'http://mkk.gov.kg' + links_df['links'].str.strip()"
   ]
  },
  {
   "cell_type": "code",
   "execution_count": 16,
   "metadata": {},
   "outputs": [
    {
     "data": {
      "text/html": [
       "<div>\n",
       "<style scoped>\n",
       "    .dataframe tbody tr th:only-of-type {\n",
       "        vertical-align: middle;\n",
       "    }\n",
       "\n",
       "    .dataframe tbody tr th {\n",
       "        vertical-align: top;\n",
       "    }\n",
       "\n",
       "    .dataframe thead th {\n",
       "        text-align: right;\n",
       "    }\n",
       "</style>\n",
       "<table border=\"1\" class=\"dataframe\">\n",
       "  <thead>\n",
       "    <tr style=\"text-align: right;\">\n",
       "      <th></th>\n",
       "      <th>links</th>\n",
       "      <th>names</th>\n",
       "    </tr>\n",
       "  </thead>\n",
       "  <tbody>\n",
       "    <tr>\n",
       "      <th>116</th>\n",
       "      <td>http://mkk.gov.kg/public/images/file_library/2...</td>\n",
       "      <td>Эргешов Алмазбек Манасбекович</td>\n",
       "    </tr>\n",
       "    <tr>\n",
       "      <th>117</th>\n",
       "      <td>http://mkk.gov.kg/public/images/file_library/2...</td>\n",
       "      <td>Юсуров Абдумажит Лелезович</td>\n",
       "    </tr>\n",
       "    <tr>\n",
       "      <th>118</th>\n",
       "      <td>http://mkk.gov.kg/public/images/file_library/2...</td>\n",
       "      <td>Есенбаева Бакыт Усенбековна</td>\n",
       "    </tr>\n",
       "  </tbody>\n",
       "</table>\n",
       "</div>"
      ],
      "text/plain": [
       "                                                 links  \\\n",
       "116  http://mkk.gov.kg/public/images/file_library/2...   \n",
       "117  http://mkk.gov.kg/public/images/file_library/2...   \n",
       "118  http://mkk.gov.kg/public/images/file_library/2...   \n",
       "\n",
       "                             names  \n",
       "116  Эргешов Алмазбек Манасбекович  \n",
       "117     Юсуров Абдумажит Лелезович  \n",
       "118    Есенбаева Бакыт Усенбековна  "
      ]
     },
     "execution_count": 16,
     "metadata": {},
     "output_type": "execute_result"
    }
   ],
   "source": [
    "links_df.tail(3)"
   ]
  },
  {
   "cell_type": "code",
   "execution_count": 17,
   "metadata": {},
   "outputs": [],
   "source": [
    "links_df.to_csv('../data/all_links.csv')"
   ]
  },
  {
   "cell_type": "markdown",
   "metadata": {},
   "source": [
    "## 2. Collect all Tables\n",
    "and store them locally"
   ]
  },
  {
   "cell_type": "code",
   "execution_count": 18,
   "metadata": {},
   "outputs": [],
   "source": [
    "import time"
   ]
  },
  {
   "cell_type": "code",
   "execution_count": 29,
   "metadata": {},
   "outputs": [
    {
     "data": {
      "text/plain": [
       "'../data/201707180057594.xlsx'"
      ]
     },
     "execution_count": 29,
     "metadata": {},
     "output_type": "execute_result"
    }
   ],
   "source": [
    "os.path.join('..', 'data', filename)"
   ]
  },
  {
   "cell_type": "code",
   "execution_count": 19,
   "metadata": {},
   "outputs": [
    {
     "name": "stdout",
     "output_type": "stream",
     "text": [
      "201707172348227.xlsx\n",
      "2017071723484910.xlsx\n",
      "2017071723500415.xlsx\n",
      "201707172350173.xlsx\n",
      "2017071723502914.xlsx\n",
      "201707172350406.xlsx\n",
      "201707172350518.xlsx\n",
      "201707180057594.xlsx\n",
      "2017071800582415.xlsx\n",
      "2017072020044114.xlsx\n",
      "201707180059406.xlsx\n",
      "2017071801001413.xlsx\n",
      "2017071801004710.xlsx\n",
      "201707180101122.xlsx\n",
      "201707180101408.xlsx\n",
      "201707180102186.xlsx\n",
      "201707201632226.xlsx\n",
      "201707201632345.xlsx\n",
      "201707180200036.xlsx\n",
      "201707180201104.xlsx\n"
     ]
    },
    {
     "ename": "KeyboardInterrupt",
     "evalue": "",
     "output_type": "error",
     "traceback": [
      "\u001b[0;31m---------------------------------------------------------------------------\u001b[0m",
      "\u001b[0;31mKeyboardInterrupt\u001b[0m                         Traceback (most recent call last)",
      "\u001b[0;32m<ipython-input-19-250c5ff8f128>\u001b[0m in \u001b[0;36m<module>\u001b[0;34m()\u001b[0m\n\u001b[1;32m      4\u001b[0m     \u001b[0mfilename\u001b[0m \u001b[0;34m=\u001b[0m \u001b[0mos\u001b[0m\u001b[0;34m.\u001b[0m\u001b[0mpath\u001b[0m\u001b[0;34m.\u001b[0m\u001b[0mbasename\u001b[0m\u001b[0;34m(\u001b[0m\u001b[0mlink\u001b[0m\u001b[0;34m)\u001b[0m  \u001b[0;31m# crossplatformer, works both on Mac and Windows\u001b[0m\u001b[0;34m\u001b[0m\u001b[0m\n\u001b[1;32m      5\u001b[0m     \u001b[0mprint\u001b[0m\u001b[0;34m(\u001b[0m\u001b[0mfilename\u001b[0m\u001b[0;34m)\u001b[0m\u001b[0;34m\u001b[0m\u001b[0m\n\u001b[0;32m----> 6\u001b[0;31m     \u001b[0mtime\u001b[0m\u001b[0;34m.\u001b[0m\u001b[0msleep\u001b[0m\u001b[0;34m(\u001b[0m\u001b[0;36m1\u001b[0m\u001b[0;34m)\u001b[0m\u001b[0;34m\u001b[0m\u001b[0m\n\u001b[0m\u001b[1;32m      7\u001b[0m     \u001b[0;32mtry\u001b[0m\u001b[0;34m:\u001b[0m\u001b[0;34m\u001b[0m\u001b[0m\n\u001b[1;32m      8\u001b[0m         \u001b[0mfilename\u001b[0m \u001b[0;34m=\u001b[0m \u001b[0mlink\u001b[0m\u001b[0;34m.\u001b[0m\u001b[0msplit\u001b[0m\u001b[0;34m(\u001b[0m\u001b[0;34m'/'\u001b[0m\u001b[0;34m)\u001b[0m\u001b[0;34m[\u001b[0m\u001b[0;34m-\u001b[0m\u001b[0;36m1\u001b[0m\u001b[0;34m]\u001b[0m\u001b[0;34m\u001b[0m\u001b[0m\n",
      "\u001b[0;31mKeyboardInterrupt\u001b[0m: "
     ]
    }
   ],
   "source": [
    "failed = []\n",
    "\n",
    "for link in links_df['links'].tolist():  # we need to have full link here\n",
    "    filename = os.path.basename(link)  # crossplatformer, works both on Mac and Windows\n",
    "    print(filename)\n",
    "    time.sleep(1)\n",
    "    try:\n",
    "        filename = link.split('/')[-1]\n",
    "        r = s.get(link)\n",
    "        r.raise_for_status()  # if something goes wrong, this will raise an error\n",
    "        \n",
    "        with open(os.path.join('..', 'data', filename), \"wb\") as code:\n",
    "            code.write(r.content)\n",
    "    except Exception as inst:\n",
    "        failed.append(link)\n",
    "        print('error:', link, inst)\n",
    "\n",
    "if len(failed)> 0:\n",
    "    print(f'Failed to download {len(failed)} declarations')"
   ]
  },
  {
   "cell_type": "code",
   "execution_count": 66,
   "metadata": {},
   "outputs": [
    {
     "data": {
      "text/plain": [
       "['http://mkk.gov.kg/public/images/file_library/2017071817252413.xlsx\\t',\n",
       " 'http://mkk.gov.kg\\t/public/images/file_library/201707181726403.xlsx']"
      ]
     },
     "execution_count": 66,
     "metadata": {},
     "output_type": "execute_result"
    }
   ],
   "source": [
    "failed"
   ]
  },
  {
   "cell_type": "code",
   "execution_count": null,
   "metadata": {},
   "outputs": [],
   "source": [
    "# alternative, a little longer, a little simpler to grasp\n",
    "failed_pandas = []\n",
    "\n",
    "for link in links_df['links'].tolist():\n",
    "    filename = os.path.basename(link)  # crossplatformer, works both on Mac and Windows\n",
    "    try:\n",
    "        df = pd.read_excel(link)\n",
    "        df.to_excel(os.path.join('..', 'data', filename))\n",
    "\n",
    "    except Exception as inst:\n",
    "        failed_pandas.append(link)\n",
    "        print(link, inst)\n",
    "        \n",
    "print(f'Failed to download {len(failed_pandas)} declarations')"
   ]
  },
  {
   "cell_type": "code",
   "execution_count": null,
   "metadata": {},
   "outputs": [],
   "source": []
  }
 ],
 "metadata": {
  "kernelspec": {
   "display_name": "Python 3",
   "language": "python",
   "name": "python3"
  },
  "language_info": {
   "codemirror_mode": {
    "name": "ipython",
    "version": 3
   },
   "file_extension": ".py",
   "mimetype": "text/x-python",
   "name": "python",
   "nbconvert_exporter": "python",
   "pygments_lexer": "ipython3",
   "version": "3.6.1"
  }
 },
 "nbformat": 4,
 "nbformat_minor": 2
}
