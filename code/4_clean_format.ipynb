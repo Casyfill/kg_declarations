{
 "cells": [
  {
   "cell_type": "code",
   "execution_count": 1,
   "metadata": {},
   "outputs": [],
   "source": [
    "import pandas as pd\n",
    "from pandas.io.json import json_normalize\n",
    "import json\n",
    "from copy import copy\n",
    "idx = pd.IndexSlice"
   ]
  },
  {
   "cell_type": "code",
   "execution_count": 2,
   "metadata": {},
   "outputs": [],
   "source": [
    "with open('../data/all_declarations.json', 'r') as f:\n",
    "    data = json.load(f)"
   ]
  },
  {
   "cell_type": "code",
   "execution_count": 7,
   "metadata": {},
   "outputs": [
    {
     "data": {
      "text/plain": [
       "dict_keys(['data'])"
      ]
     },
     "execution_count": 7,
     "metadata": {},
     "output_type": "execute_result"
    }
   ],
   "source": [
    "data.keys()"
   ]
  },
  {
   "cell_type": "code",
   "execution_count": 11,
   "metadata": {},
   "outputs": [
    {
     "data": {
      "text/plain": [
       "{'date': '31/_12/2016г.',\n",
       " 'deputy': {'income': ['997 146 с. -по месту основной работы',\n",
       "   '714 546 с.-пенсия'],\n",
       "  'other_estate': [],\n",
       "  'real_estate': [{'наименование': 'дом', 'площадь (кв.м)': 172}],\n",
       "  'spendeturs': []},\n",
       " 'relatives': {'income': [],\n",
       "  'other_estate': [{'наименование': 'лег/автомобиль ',\n",
       "    'сведения о транспортных средствах': 'Тойота Камри, 2015г. V=2494Б'}],\n",
       "  'real_estate': [{'наименование': 'квартира', 'площадь (кв.м)': 187}],\n",
       "  'spendeturs': []},\n",
       " 'Должность декларанта': 'Депутат',\n",
       " 'Наименование государственного/ муниципального органа': 'Жогорку Кенеш Кыргызской Республики',\n",
       " 'ФИО декларанта': 'Абдылдаев Мыктыбек Юсупович'}"
      ]
     },
     "execution_count": 11,
     "metadata": {},
     "output_type": "execute_result"
    }
   ],
   "source": [
    "data['data'][0]"
   ]
  },
  {
   "cell_type": "markdown",
   "metadata": {},
   "source": [
    "## Разделим данные на отдельные, \"Tidy\" таблички"
   ]
  },
  {
   "cell_type": "markdown",
   "metadata": {},
   "source": [
    "всего будут следующие таблички:\n",
    "    - депутаты\n",
    "    - income/spendings\n",
    "    - real estate\n",
    "    - other estate"
   ]
  },
  {
   "cell_type": "markdown",
   "metadata": {},
   "source": [
    "### 1. Deputies"
   ]
  },
  {
   "cell_type": "code",
   "execution_count": 8,
   "metadata": {},
   "outputs": [],
   "source": [
    "deputies_cols = ['Должность декларанта', 'Наименование государственного/ муниципального органа', 'ФИО декларанта']"
   ]
  },
  {
   "cell_type": "code",
   "execution_count": 9,
   "metadata": {},
   "outputs": [],
   "source": [
    "deputies = pd.DataFrame([{k:el[k] for k in deputies_cols} for el in data['data']])"
   ]
  },
  {
   "cell_type": "code",
   "execution_count": 10,
   "metadata": {},
   "outputs": [
    {
     "data": {
      "text/html": [
       "<div>\n",
       "<style scoped>\n",
       "    .dataframe tbody tr th:only-of-type {\n",
       "        vertical-align: middle;\n",
       "    }\n",
       "\n",
       "    .dataframe tbody tr th {\n",
       "        vertical-align: top;\n",
       "    }\n",
       "\n",
       "    .dataframe thead th {\n",
       "        text-align: right;\n",
       "    }\n",
       "</style>\n",
       "<table border=\"1\" class=\"dataframe\">\n",
       "  <thead>\n",
       "    <tr style=\"text-align: right;\">\n",
       "      <th></th>\n",
       "      <th>Должность декларанта</th>\n",
       "      <th>Наименование государственного/ муниципального органа</th>\n",
       "      <th>ФИО декларанта</th>\n",
       "    </tr>\n",
       "  </thead>\n",
       "  <tbody>\n",
       "    <tr>\n",
       "      <th>0</th>\n",
       "      <td>Депутат</td>\n",
       "      <td>Жогорку Кенеш Кыргызской Республики</td>\n",
       "      <td>Абдылдаев Мыктыбек Юсупович</td>\n",
       "    </tr>\n",
       "    <tr>\n",
       "      <th>1</th>\n",
       "      <td>Депутат</td>\n",
       "      <td>Жогорку Кенеш Кыргызской Республики</td>\n",
       "      <td>Абжалиев Алиярбек Токобекович</td>\n",
       "    </tr>\n",
       "  </tbody>\n",
       "</table>\n",
       "</div>"
      ],
      "text/plain": [
       "  Должность декларанта Наименование государственного/ муниципального органа  \\\n",
       "0              Депутат                Жогорку Кенеш Кыргызской Республики     \n",
       "1              Депутат                Жогорку Кенеш Кыргызской Республики     \n",
       "\n",
       "                  ФИО декларанта  \n",
       "0    Абдылдаев Мыктыбек Юсупович  \n",
       "1  Абжалиев Алиярбек Токобекович  "
      ]
     },
     "execution_count": 10,
     "metadata": {},
     "output_type": "execute_result"
    }
   ],
   "source": [
    "deputies.head(2)"
   ]
  },
  {
   "cell_type": "markdown",
   "metadata": {},
   "source": [
    "## Income / Spendings"
   ]
  },
  {
   "cell_type": "code",
   "execution_count": 23,
   "metadata": {},
   "outputs": [],
   "source": [
    "money = []\n",
    "for dep in data['data']:\n",
    "    name = dep['ФИО декларанта']\n",
    "    for p in 'deputy', 'relatives':\n",
    "        if p in dep:\n",
    "            \n",
    "            for tp in 'income', 'spendeturs':\n",
    "                if len(dep[p][tp])>0:\n",
    "                    records = pd.DataFrame(dep[p][tp])\n",
    "                    records.columns = ['record']\n",
    "                    records['type'] = tp\n",
    "                    records['person'] = p\n",
    "                    records['name'] = name\n",
    "                    money.append(records)\n",
    "\n",
    "money = pd.concat(money)"
   ]
  },
  {
   "cell_type": "code",
   "execution_count": 25,
   "metadata": {},
   "outputs": [
    {
     "data": {
      "text/html": [
       "<div>\n",
       "<style scoped>\n",
       "    .dataframe tbody tr th:only-of-type {\n",
       "        vertical-align: middle;\n",
       "    }\n",
       "\n",
       "    .dataframe tbody tr th {\n",
       "        vertical-align: top;\n",
       "    }\n",
       "\n",
       "    .dataframe thead th {\n",
       "        text-align: right;\n",
       "    }\n",
       "</style>\n",
       "<table border=\"1\" class=\"dataframe\">\n",
       "  <thead>\n",
       "    <tr style=\"text-align: right;\">\n",
       "      <th></th>\n",
       "      <th>record</th>\n",
       "      <th>type</th>\n",
       "      <th>person</th>\n",
       "      <th>name</th>\n",
       "    </tr>\n",
       "  </thead>\n",
       "  <tbody>\n",
       "    <tr>\n",
       "      <th>0</th>\n",
       "      <td>997 146 с. -по месту основной работы</td>\n",
       "      <td>income</td>\n",
       "      <td>deputy</td>\n",
       "      <td>Абдылдаев Мыктыбек Юсупович</td>\n",
       "    </tr>\n",
       "    <tr>\n",
       "      <th>1</th>\n",
       "      <td>714 546 с.-пенсия</td>\n",
       "      <td>income</td>\n",
       "      <td>deputy</td>\n",
       "      <td>Абдылдаев Мыктыбек Юсупович</td>\n",
       "    </tr>\n",
       "    <tr>\n",
       "      <th>0</th>\n",
       "      <td>787 075 с. - по месту основной работы</td>\n",
       "      <td>income</td>\n",
       "      <td>deputy</td>\n",
       "      <td>Абжалиев Алиярбек Токобекович</td>\n",
       "    </tr>\n",
       "    <tr>\n",
       "      <th>0</th>\n",
       "      <td>597 633 с. - по месту основной работы</td>\n",
       "      <td>income</td>\n",
       "      <td>deputy</td>\n",
       "      <td>Айнакулов Мухтарбек Айнакулович</td>\n",
       "    </tr>\n",
       "    <tr>\n",
       "      <th>0</th>\n",
       "      <td>786 243 с. - по месту основной работы</td>\n",
       "      <td>income</td>\n",
       "      <td>deputy</td>\n",
       "      <td>Айдаров Салайдин Абдираевич</td>\n",
       "    </tr>\n",
       "    <tr>\n",
       "      <th>1</th>\n",
       "      <td>198 336 с. - пенсия</td>\n",
       "      <td>income</td>\n",
       "      <td>deputy</td>\n",
       "      <td>Айдаров Салайдин Абдираевич</td>\n",
       "    </tr>\n",
       "    <tr>\n",
       "      <th>2</th>\n",
       "      <td>1 000 000 с.-от гражданско-правовых договоров</td>\n",
       "      <td>income</td>\n",
       "      <td>deputy</td>\n",
       "      <td>Айдаров Салайдин Абдираевич</td>\n",
       "    </tr>\n",
       "    <tr>\n",
       "      <th>0</th>\n",
       "      <td>852 417 с. - по месту основной работы</td>\n",
       "      <td>income</td>\n",
       "      <td>deputy</td>\n",
       "      <td>Акматов Алмасбек Жумабекович</td>\n",
       "    </tr>\n",
       "    <tr>\n",
       "      <th>0</th>\n",
       "      <td>648 163 с. - по месту основной работы</td>\n",
       "      <td>income</td>\n",
       "      <td>deputy</td>\n",
       "      <td>Акаев Жанарбек Кубанычович</td>\n",
       "    </tr>\n",
       "    <tr>\n",
       "      <th>0</th>\n",
       "      <td>885 352 с. - по месту основной работы</td>\n",
       "      <td>income</td>\n",
       "      <td>deputy</td>\n",
       "      <td>Алимбеков Нурбек Каарыевич</td>\n",
       "    </tr>\n",
       "  </tbody>\n",
       "</table>\n",
       "</div>"
      ],
      "text/plain": [
       "                                          record    type  person  \\\n",
       "0           997 146 с. -по месту основной работы  income  deputy   \n",
       "1                              714 546 с.-пенсия  income  deputy   \n",
       "0         787 075 с. - по месту основной работы   income  deputy   \n",
       "0          597 633 с. - по месту основной работы  income  deputy   \n",
       "0          786 243 с. - по месту основной работы  income  deputy   \n",
       "1                            198 336 с. - пенсия  income  deputy   \n",
       "2  1 000 000 с.-от гражданско-правовых договоров  income  deputy   \n",
       "0         852 417 с. - по месту основной работы   income  deputy   \n",
       "0         648 163 с. - по месту основной работы   income  deputy   \n",
       "0         885 352 с. - по месту основной работы   income  deputy   \n",
       "\n",
       "                              name  \n",
       "0      Абдылдаев Мыктыбек Юсупович  \n",
       "1      Абдылдаев Мыктыбек Юсупович  \n",
       "0    Абжалиев Алиярбек Токобекович  \n",
       "0  Айнакулов Мухтарбек Айнакулович  \n",
       "0      Айдаров Салайдин Абдираевич  \n",
       "1      Айдаров Салайдин Абдираевич  \n",
       "2      Айдаров Салайдин Абдираевич  \n",
       "0     Акматов Алмасбек Жумабекович  \n",
       "0       Акаев Жанарбек Кубанычович  \n",
       "0       Алимбеков Нурбек Каарыевич  "
      ]
     },
     "execution_count": 25,
     "metadata": {},
     "output_type": "execute_result"
    }
   ],
   "source": [
    "money.head(10)"
   ]
  },
  {
   "cell_type": "code",
   "execution_count": 26,
   "metadata": {},
   "outputs": [],
   "source": [
    "## this is not tidy yet - we'll address that later"
   ]
  },
  {
   "cell_type": "code",
   "execution_count": 54,
   "metadata": {},
   "outputs": [
    {
     "name": "stderr",
     "output_type": "stream",
     "text": [
      "/Users/philippk/anaconda3/envs/py36/lib/python3.6/site-packages/ipykernel/__main__.py:1: FutureWarning: currently extract(expand=None) means expand=False (return Index/Series/DataFrame) but in a future version of pandas this will be changed to expand=True (return DataFrame)\n",
      "  if __name__ == '__main__':\n"
     ]
    }
   ],
   "source": [
    "money['amount'] = money.record.str.extract(r'^([\\d|\\s|,]+)\\S+').str.replace(',','').str.replace(' ','').astype(int)"
   ]
  },
  {
   "cell_type": "code",
   "execution_count": 63,
   "metadata": {},
   "outputs": [
    {
     "name": "stderr",
     "output_type": "stream",
     "text": [
      "/Users/philippk/anaconda3/envs/py36/lib/python3.6/site-packages/ipykernel/__main__.py:1: FutureWarning: currently extract(expand=None) means expand=False (return Index/Series/DataFrame) but in a future version of pandas this will be changed to expand=True (return DataFrame)\n",
      "  if __name__ == '__main__':\n"
     ]
    }
   ],
   "source": [
    "money['currency'] = money.record.str.extract(r'^[\\d|\\s|,]+([^-]*)-').str.strip()"
   ]
  },
  {
   "cell_type": "code",
   "execution_count": 64,
   "metadata": {},
   "outputs": [
    {
     "name": "stderr",
     "output_type": "stream",
     "text": [
      "/Users/philippk/anaconda3/envs/py36/lib/python3.6/site-packages/ipykernel/__main__.py:1: FutureWarning: currently extract(expand=None) means expand=False (return Index/Series/DataFrame) but in a future version of pandas this will be changed to expand=True (return DataFrame)\n",
      "  if __name__ == '__main__':\n"
     ]
    }
   ],
   "source": [
    "money['detail'] = money.record.str.extract(r'\\-(.*)').str.strip()"
   ]
  },
  {
   "cell_type": "code",
   "execution_count": 65,
   "metadata": {},
   "outputs": [
    {
     "data": {
      "text/html": [
       "<div>\n",
       "<style scoped>\n",
       "    .dataframe tbody tr th:only-of-type {\n",
       "        vertical-align: middle;\n",
       "    }\n",
       "\n",
       "    .dataframe tbody tr th {\n",
       "        vertical-align: top;\n",
       "    }\n",
       "\n",
       "    .dataframe thead th {\n",
       "        text-align: right;\n",
       "    }\n",
       "</style>\n",
       "<table border=\"1\" class=\"dataframe\">\n",
       "  <thead>\n",
       "    <tr style=\"text-align: right;\">\n",
       "      <th></th>\n",
       "      <th>record</th>\n",
       "      <th>type</th>\n",
       "      <th>person</th>\n",
       "      <th>name</th>\n",
       "      <th>amount</th>\n",
       "      <th>currency</th>\n",
       "      <th>detail</th>\n",
       "    </tr>\n",
       "  </thead>\n",
       "  <tbody>\n",
       "    <tr>\n",
       "      <th>0</th>\n",
       "      <td>997 146 с. -по месту основной работы</td>\n",
       "      <td>income</td>\n",
       "      <td>deputy</td>\n",
       "      <td>Абдылдаев Мыктыбек Юсупович</td>\n",
       "      <td>997146</td>\n",
       "      <td>с.</td>\n",
       "      <td>по месту основной работы</td>\n",
       "    </tr>\n",
       "    <tr>\n",
       "      <th>1</th>\n",
       "      <td>714 546 с.-пенсия</td>\n",
       "      <td>income</td>\n",
       "      <td>deputy</td>\n",
       "      <td>Абдылдаев Мыктыбек Юсупович</td>\n",
       "      <td>714546</td>\n",
       "      <td>с.</td>\n",
       "      <td>пенсия</td>\n",
       "    </tr>\n",
       "    <tr>\n",
       "      <th>0</th>\n",
       "      <td>787 075 с. - по месту основной работы</td>\n",
       "      <td>income</td>\n",
       "      <td>deputy</td>\n",
       "      <td>Абжалиев Алиярбек Токобекович</td>\n",
       "      <td>787075</td>\n",
       "      <td>с.</td>\n",
       "      <td>по месту основной работы</td>\n",
       "    </tr>\n",
       "    <tr>\n",
       "      <th>0</th>\n",
       "      <td>597 633 с. - по месту основной работы</td>\n",
       "      <td>income</td>\n",
       "      <td>deputy</td>\n",
       "      <td>Айнакулов Мухтарбек Айнакулович</td>\n",
       "      <td>597633</td>\n",
       "      <td>с.</td>\n",
       "      <td>по месту основной работы</td>\n",
       "    </tr>\n",
       "    <tr>\n",
       "      <th>0</th>\n",
       "      <td>786 243 с. - по месту основной работы</td>\n",
       "      <td>income</td>\n",
       "      <td>deputy</td>\n",
       "      <td>Айдаров Салайдин Абдираевич</td>\n",
       "      <td>786243</td>\n",
       "      <td>с.</td>\n",
       "      <td>по месту основной работы</td>\n",
       "    </tr>\n",
       "    <tr>\n",
       "      <th>1</th>\n",
       "      <td>198 336 с. - пенсия</td>\n",
       "      <td>income</td>\n",
       "      <td>deputy</td>\n",
       "      <td>Айдаров Салайдин Абдираевич</td>\n",
       "      <td>198336</td>\n",
       "      <td>с.</td>\n",
       "      <td>пенсия</td>\n",
       "    </tr>\n",
       "    <tr>\n",
       "      <th>2</th>\n",
       "      <td>1 000 000 с.-от гражданско-правовых договоров</td>\n",
       "      <td>income</td>\n",
       "      <td>deputy</td>\n",
       "      <td>Айдаров Салайдин Абдираевич</td>\n",
       "      <td>1000000</td>\n",
       "      <td>с.</td>\n",
       "      <td>от гражданско-правовых договоров</td>\n",
       "    </tr>\n",
       "    <tr>\n",
       "      <th>0</th>\n",
       "      <td>852 417 с. - по месту основной работы</td>\n",
       "      <td>income</td>\n",
       "      <td>deputy</td>\n",
       "      <td>Акматов Алмасбек Жумабекович</td>\n",
       "      <td>852417</td>\n",
       "      <td>с.</td>\n",
       "      <td>по месту основной работы</td>\n",
       "    </tr>\n",
       "    <tr>\n",
       "      <th>0</th>\n",
       "      <td>648 163 с. - по месту основной работы</td>\n",
       "      <td>income</td>\n",
       "      <td>deputy</td>\n",
       "      <td>Акаев Жанарбек Кубанычович</td>\n",
       "      <td>648163</td>\n",
       "      <td>с.</td>\n",
       "      <td>по месту основной работы</td>\n",
       "    </tr>\n",
       "    <tr>\n",
       "      <th>0</th>\n",
       "      <td>885 352 с. - по месту основной работы</td>\n",
       "      <td>income</td>\n",
       "      <td>deputy</td>\n",
       "      <td>Алимбеков Нурбек Каарыевич</td>\n",
       "      <td>885352</td>\n",
       "      <td>с.</td>\n",
       "      <td>по месту основной работы</td>\n",
       "    </tr>\n",
       "  </tbody>\n",
       "</table>\n",
       "</div>"
      ],
      "text/plain": [
       "                                          record    type  person  \\\n",
       "0           997 146 с. -по месту основной работы  income  deputy   \n",
       "1                              714 546 с.-пенсия  income  deputy   \n",
       "0         787 075 с. - по месту основной работы   income  deputy   \n",
       "0          597 633 с. - по месту основной работы  income  deputy   \n",
       "0          786 243 с. - по месту основной работы  income  deputy   \n",
       "1                            198 336 с. - пенсия  income  deputy   \n",
       "2  1 000 000 с.-от гражданско-правовых договоров  income  deputy   \n",
       "0         852 417 с. - по месту основной работы   income  deputy   \n",
       "0         648 163 с. - по месту основной работы   income  deputy   \n",
       "0         885 352 с. - по месту основной работы   income  deputy   \n",
       "\n",
       "                              name   amount currency  \\\n",
       "0      Абдылдаев Мыктыбек Юсупович   997146       с.   \n",
       "1      Абдылдаев Мыктыбек Юсупович   714546       с.   \n",
       "0    Абжалиев Алиярбек Токобекович   787075       с.   \n",
       "0  Айнакулов Мухтарбек Айнакулович   597633       с.   \n",
       "0      Айдаров Салайдин Абдираевич   786243       с.   \n",
       "1      Айдаров Салайдин Абдираевич   198336       с.   \n",
       "2      Айдаров Салайдин Абдираевич  1000000       с.   \n",
       "0     Акматов Алмасбек Жумабекович   852417       с.   \n",
       "0       Акаев Жанарбек Кубанычович   648163       с.   \n",
       "0       Алимбеков Нурбек Каарыевич   885352       с.   \n",
       "\n",
       "                             detail  \n",
       "0          по месту основной работы  \n",
       "1                            пенсия  \n",
       "0          по месту основной работы  \n",
       "0          по месту основной работы  \n",
       "0          по месту основной работы  \n",
       "1                            пенсия  \n",
       "2  от гражданско-правовых договоров  \n",
       "0          по месту основной работы  \n",
       "0          по месту основной работы  \n",
       "0          по месту основной работы  "
      ]
     },
     "execution_count": 65,
     "metadata": {},
     "output_type": "execute_result"
    }
   ],
   "source": [
    "money.head(10)"
   ]
  },
  {
   "cell_type": "markdown",
   "metadata": {},
   "source": [
    "## Real Estate"
   ]
  },
  {
   "cell_type": "code",
   "execution_count": 28,
   "metadata": {},
   "outputs": [],
   "source": [
    "re = []\n",
    "for dep in data['data']:\n",
    "    name = dep['ФИО декларанта']\n",
    "    for p in 'deputy', 'relatives':\n",
    "        if p in dep:\n",
    "            tp = 'real_estate'\n",
    "            if len(dep[p][tp])>0:\n",
    "                records = pd.DataFrame(dep[p][tp])\n",
    "                records['type'] = tp\n",
    "                records['person'] = p\n",
    "                records['name'] = name\n",
    "                re.append(records)\n",
    "\n",
    "re = pd.concat(re)"
   ]
  },
  {
   "cell_type": "code",
   "execution_count": 30,
   "metadata": {},
   "outputs": [
    {
     "data": {
      "text/html": [
       "<div>\n",
       "<style scoped>\n",
       "    .dataframe tbody tr th:only-of-type {\n",
       "        vertical-align: middle;\n",
       "    }\n",
       "\n",
       "    .dataframe tbody tr th {\n",
       "        vertical-align: top;\n",
       "    }\n",
       "\n",
       "    .dataframe thead th {\n",
       "        text-align: right;\n",
       "    }\n",
       "</style>\n",
       "<table border=\"1\" class=\"dataframe\">\n",
       "  <thead>\n",
       "    <tr style=\"text-align: right;\">\n",
       "      <th></th>\n",
       "      <th>name</th>\n",
       "      <th>person</th>\n",
       "      <th>type</th>\n",
       "      <th>доля (%)</th>\n",
       "      <th>наименование</th>\n",
       "      <th>площадь (кв.м)</th>\n",
       "      <th>хозяйствующий субъект</th>\n",
       "    </tr>\n",
       "  </thead>\n",
       "  <tbody>\n",
       "    <tr>\n",
       "      <th>0</th>\n",
       "      <td>Абдылдаев Мыктыбек Юсупович</td>\n",
       "      <td>deputy</td>\n",
       "      <td>real_estate</td>\n",
       "      <td>NaN</td>\n",
       "      <td>дом</td>\n",
       "      <td>172</td>\n",
       "      <td>NaN</td>\n",
       "    </tr>\n",
       "    <tr>\n",
       "      <th>0</th>\n",
       "      <td>Абдылдаев Мыктыбек Юсупович</td>\n",
       "      <td>relatives</td>\n",
       "      <td>real_estate</td>\n",
       "      <td>NaN</td>\n",
       "      <td>квартира</td>\n",
       "      <td>187</td>\n",
       "      <td>NaN</td>\n",
       "    </tr>\n",
       "    <tr>\n",
       "      <th>0</th>\n",
       "      <td>Айнакулов Мухтарбек Айнакулович</td>\n",
       "      <td>relatives</td>\n",
       "      <td>real_estate</td>\n",
       "      <td>NaN</td>\n",
       "      <td>квартира</td>\n",
       "      <td>115</td>\n",
       "      <td>NaN</td>\n",
       "    </tr>\n",
       "  </tbody>\n",
       "</table>\n",
       "</div>"
      ],
      "text/plain": [
       "                              name     person         type доля (%)  \\\n",
       "0      Абдылдаев Мыктыбек Юсупович     deputy  real_estate      NaN   \n",
       "0      Абдылдаев Мыктыбек Юсупович  relatives  real_estate      NaN   \n",
       "0  Айнакулов Мухтарбек Айнакулович  relatives  real_estate      NaN   \n",
       "\n",
       "  наименование площадь (кв.м) хозяйствующий субъект  \n",
       "0          дом            172                   NaN  \n",
       "0     квартира            187                   NaN  \n",
       "0    квартира             115                   NaN  "
      ]
     },
     "execution_count": 30,
     "metadata": {},
     "output_type": "execute_result"
    }
   ],
   "source": [
    "re.head(3)"
   ]
  },
  {
   "cell_type": "markdown",
   "metadata": {},
   "source": [
    "## Other estate"
   ]
  },
  {
   "cell_type": "code",
   "execution_count": 31,
   "metadata": {},
   "outputs": [],
   "source": [
    "oe = []\n",
    "\n",
    "for dep in data['data']:\n",
    "    name = dep['ФИО декларанта']\n",
    "    for p in 'deputy', 'relatives':\n",
    "        if p in dep:\n",
    "            tp = 'other_estate'\n",
    "            if len(dep[p][tp])>0:\n",
    "                records = pd.DataFrame(dep[p][tp])\n",
    "                records['type'] = tp\n",
    "                records['person'] = p\n",
    "                records['name'] = name\n",
    "                oe.append(records)\n",
    "\n",
    "oe = pd.concat(oe)"
   ]
  },
  {
   "cell_type": "code",
   "execution_count": 71,
   "metadata": {},
   "outputs": [
    {
     "data": {
      "text/html": [
       "<div>\n",
       "<style scoped>\n",
       "    .dataframe tbody tr th:only-of-type {\n",
       "        vertical-align: middle;\n",
       "    }\n",
       "\n",
       "    .dataframe tbody tr th {\n",
       "        vertical-align: top;\n",
       "    }\n",
       "\n",
       "    .dataframe thead th {\n",
       "        text-align: right;\n",
       "    }\n",
       "</style>\n",
       "<table border=\"1\" class=\"dataframe\">\n",
       "  <thead>\n",
       "    <tr style=\"text-align: right;\">\n",
       "      <th></th>\n",
       "      <th>name</th>\n",
       "      <th>person</th>\n",
       "      <th>type</th>\n",
       "      <th>доля (%)</th>\n",
       "      <th>наименование</th>\n",
       "      <th>сведения о транспортных средствах</th>\n",
       "      <th>хозяйствующий субъект</th>\n",
       "      <th>year</th>\n",
       "    </tr>\n",
       "  </thead>\n",
       "  <tbody>\n",
       "    <tr>\n",
       "      <th>0</th>\n",
       "      <td>Турускулов Жыргалбек Куручбекович</td>\n",
       "      <td>deputy</td>\n",
       "      <td>other_estate</td>\n",
       "      <td>NaN</td>\n",
       "      <td>груз/автомобиль</td>\n",
       "      <td>МАН 19323, 1995г., V=9973 Д</td>\n",
       "      <td>NaN</td>\n",
       "      <td>1995</td>\n",
       "    </tr>\n",
       "    <tr>\n",
       "      <th>0</th>\n",
       "      <td>Турускулов Жыргалбек Куручбекович</td>\n",
       "      <td>relatives</td>\n",
       "      <td>other_estate</td>\n",
       "      <td>NaN</td>\n",
       "      <td>лег/автомобиль</td>\n",
       "      <td>Тойота Лендкрузер 200, 2016г.,V=4608 Б</td>\n",
       "      <td>NaN</td>\n",
       "      <td>2016</td>\n",
       "    </tr>\n",
       "    <tr>\n",
       "      <th>0</th>\n",
       "      <td>Туманбаева Рада Мураталыевна</td>\n",
       "      <td>relatives</td>\n",
       "      <td>other_estate</td>\n",
       "      <td>NaN</td>\n",
       "      <td>груз/автомобиль</td>\n",
       "      <td>ДАФ- XF 105, 2007г., V=12,9</td>\n",
       "      <td>NaN</td>\n",
       "      <td>2007</td>\n",
       "    </tr>\n",
       "    <tr>\n",
       "      <th>1</th>\n",
       "      <td>Туманбаева Рада Мураталыевна</td>\n",
       "      <td>relatives</td>\n",
       "      <td>other_estate</td>\n",
       "      <td>NaN</td>\n",
       "      <td>груз/автомобиль</td>\n",
       "      <td>ДАФ -XF 95, 2006 г., V=12,6</td>\n",
       "      <td>NaN</td>\n",
       "      <td>NaN</td>\n",
       "    </tr>\n",
       "    <tr>\n",
       "      <th>2</th>\n",
       "      <td>Туманбаева Рада Мураталыевна</td>\n",
       "      <td>relatives</td>\n",
       "      <td>other_estate</td>\n",
       "      <td>NaN</td>\n",
       "      <td>лег/автомобиль</td>\n",
       "      <td>Тойота Матрикс, 2010, V=1,8</td>\n",
       "      <td>NaN</td>\n",
       "      <td>NaN</td>\n",
       "    </tr>\n",
       "    <tr>\n",
       "      <th>0</th>\n",
       "      <td>Узакбаев Абылкайыр Осмонбекович</td>\n",
       "      <td>deputy</td>\n",
       "      <td>other_estate</td>\n",
       "      <td>NaN</td>\n",
       "      <td>автомобиль</td>\n",
       "      <td>РАФ 2203, 1987г.</td>\n",
       "      <td>NaN</td>\n",
       "      <td>1987</td>\n",
       "    </tr>\n",
       "    <tr>\n",
       "      <th>0</th>\n",
       "      <td>Шадиев Аскарбек Алимбаевич</td>\n",
       "      <td>deputy</td>\n",
       "      <td>other_estate</td>\n",
       "      <td>50</td>\n",
       "      <td>NaN</td>\n",
       "      <td>NaN</td>\n",
       "      <td>ОсОО</td>\n",
       "      <td>NaN</td>\n",
       "    </tr>\n",
       "    <tr>\n",
       "      <th>1</th>\n",
       "      <td>Шадиев Аскарбек Алимбаевич</td>\n",
       "      <td>deputy</td>\n",
       "      <td>other_estate</td>\n",
       "      <td>50</td>\n",
       "      <td>NaN</td>\n",
       "      <td>NaN</td>\n",
       "      <td>ОсОО</td>\n",
       "      <td>NaN</td>\n",
       "    </tr>\n",
       "    <tr>\n",
       "      <th>0</th>\n",
       "      <td>Шадиев Аскарбек Алимбаевич</td>\n",
       "      <td>relatives</td>\n",
       "      <td>other_estate</td>\n",
       "      <td>NaN</td>\n",
       "      <td>автомобиль</td>\n",
       "      <td>Тойота Лендкрузкр 150, 2013г., V3058Б</td>\n",
       "      <td>NaN</td>\n",
       "      <td>2013</td>\n",
       "    </tr>\n",
       "    <tr>\n",
       "      <th>0</th>\n",
       "      <td>Шайназаров Тынчтык Урайимович</td>\n",
       "      <td>deputy</td>\n",
       "      <td>other_estate</td>\n",
       "      <td>NaN</td>\n",
       "      <td>автомобиль</td>\n",
       "      <td>Тойота Лендкрузер</td>\n",
       "      <td>NaN</td>\n",
       "      <td>NaN</td>\n",
       "    </tr>\n",
       "    <tr>\n",
       "      <th>0</th>\n",
       "      <td>Шер-Нияз Садык</td>\n",
       "      <td>deputy</td>\n",
       "      <td>other_estate</td>\n",
       "      <td>50</td>\n",
       "      <td>NaN</td>\n",
       "      <td>NaN</td>\n",
       "      <td>недвижимое имущество</td>\n",
       "      <td>NaN</td>\n",
       "    </tr>\n",
       "    <tr>\n",
       "      <th>0</th>\n",
       "      <td>Шер-Нияз Садык</td>\n",
       "      <td>relatives</td>\n",
       "      <td>other_estate</td>\n",
       "      <td>NaN</td>\n",
       "      <td>автомобиль</td>\n",
       "      <td>Лексус RX 330</td>\n",
       "      <td>NaN</td>\n",
       "      <td>NaN</td>\n",
       "    </tr>\n",
       "    <tr>\n",
       "      <th>0</th>\n",
       "      <td>Шыкмаматов Алмамбет Насырканович</td>\n",
       "      <td>relatives</td>\n",
       "      <td>other_estate</td>\n",
       "      <td>NaN</td>\n",
       "      <td>автомобиль</td>\n",
       "      <td>Тойота Камри, 2014 г., V=2494 Б</td>\n",
       "      <td>NaN</td>\n",
       "      <td>NaN</td>\n",
       "    </tr>\n",
       "    <tr>\n",
       "      <th>0</th>\n",
       "      <td>Эгембердиев Максатбек Бакирович</td>\n",
       "      <td>deputy</td>\n",
       "      <td>other_estate</td>\n",
       "      <td>NaN</td>\n",
       "      <td>автомобиль</td>\n",
       "      <td>Лексус LX 570</td>\n",
       "      <td>NaN</td>\n",
       "      <td>NaN</td>\n",
       "    </tr>\n",
       "    <tr>\n",
       "      <th>0</th>\n",
       "      <td>Эргешов Алмазбек Манасбекович</td>\n",
       "      <td>deputy</td>\n",
       "      <td>other_estate</td>\n",
       "      <td>NaN</td>\n",
       "      <td>автомобиль</td>\n",
       "      <td>Лексус LS 460, 2008 г.</td>\n",
       "      <td>NaN</td>\n",
       "      <td>NaN</td>\n",
       "    </tr>\n",
       "    <tr>\n",
       "      <th>0</th>\n",
       "      <td>Юсуров Абдумажит Лелезович</td>\n",
       "      <td>deputy</td>\n",
       "      <td>other_estate</td>\n",
       "      <td>NaN</td>\n",
       "      <td>автомобиль</td>\n",
       "      <td>Мерседес Бенц С500, 2010г., V=4,99</td>\n",
       "      <td>NaN</td>\n",
       "      <td>2010</td>\n",
       "    </tr>\n",
       "    <tr>\n",
       "      <th>0</th>\n",
       "      <td>Юсуров Абдумажит Лелезович</td>\n",
       "      <td>relatives</td>\n",
       "      <td>other_estate</td>\n",
       "      <td>NaN</td>\n",
       "      <td>автомобиль</td>\n",
       "      <td>Тойота РАФ 4, 2014 г., V=1987</td>\n",
       "      <td>NaN</td>\n",
       "      <td>NaN</td>\n",
       "    </tr>\n",
       "    <tr>\n",
       "      <th>0</th>\n",
       "      <td>Есенбаева Бакыт Усенбековна</td>\n",
       "      <td>deputy</td>\n",
       "      <td>other_estate</td>\n",
       "      <td>NaN</td>\n",
       "      <td>автомобиль</td>\n",
       "      <td>Лексус GX 470, 2005г., V=4664 Б</td>\n",
       "      <td>NaN</td>\n",
       "      <td>2005</td>\n",
       "    </tr>\n",
       "    <tr>\n",
       "      <th>0</th>\n",
       "      <td>Есенбаева Бакыт Усенбековна</td>\n",
       "      <td>relatives</td>\n",
       "      <td>other_estate</td>\n",
       "      <td>NaN</td>\n",
       "      <td>автомобиль</td>\n",
       "      <td>Ниссан Инфинити -QX4, 2001г.</td>\n",
       "      <td>NaN</td>\n",
       "      <td>2001</td>\n",
       "    </tr>\n",
       "    <tr>\n",
       "      <th>0</th>\n",
       "      <td>Момбеков Рыскелди Чыныбекович</td>\n",
       "      <td>relatives</td>\n",
       "      <td>other_estate</td>\n",
       "      <td>100</td>\n",
       "      <td>лег/автомобиль</td>\n",
       "      <td>Тойота Харриер, 2000г., V=2997 см³</td>\n",
       "      <td>ОсОО</td>\n",
       "      <td>2000</td>\n",
       "    </tr>\n",
       "  </tbody>\n",
       "</table>\n",
       "</div>"
      ],
      "text/plain": [
       "                                name     person          type доля (%)  \\\n",
       "0  Турускулов Жыргалбек Куручбекович     deputy  other_estate      NaN   \n",
       "0  Турускулов Жыргалбек Куручбекович  relatives  other_estate      NaN   \n",
       "0       Туманбаева Рада Мураталыевна  relatives  other_estate      NaN   \n",
       "1       Туманбаева Рада Мураталыевна  relatives  other_estate      NaN   \n",
       "2       Туманбаева Рада Мураталыевна  relatives  other_estate      NaN   \n",
       "0    Узакбаев Абылкайыр Осмонбекович     deputy  other_estate      NaN   \n",
       "0         Шадиев Аскарбек Алимбаевич     deputy  other_estate       50   \n",
       "1         Шадиев Аскарбек Алимбаевич     deputy  other_estate       50   \n",
       "0         Шадиев Аскарбек Алимбаевич  relatives  other_estate      NaN   \n",
       "0      Шайназаров Тынчтык Урайимович     deputy  other_estate      NaN   \n",
       "0                     Шер-Нияз Садык     deputy  other_estate       50   \n",
       "0                     Шер-Нияз Садык  relatives  other_estate      NaN   \n",
       "0   Шыкмаматов Алмамбет Насырканович  relatives  other_estate      NaN   \n",
       "0    Эгембердиев Максатбек Бакирович     deputy  other_estate      NaN   \n",
       "0      Эргешов Алмазбек Манасбекович     deputy  other_estate      NaN   \n",
       "0         Юсуров Абдумажит Лелезович     deputy  other_estate      NaN   \n",
       "0         Юсуров Абдумажит Лелезович  relatives  other_estate      NaN   \n",
       "0        Есенбаева Бакыт Усенбековна     deputy  other_estate      NaN   \n",
       "0        Есенбаева Бакыт Усенбековна  relatives  other_estate      NaN   \n",
       "0      Момбеков Рыскелди Чыныбекович  relatives  other_estate      100   \n",
       "\n",
       "      наименование       сведения о транспортных средствах  \\\n",
       "0  груз/автомобиль             МАН 19323, 1995г., V=9973 Д   \n",
       "0   лег/автомобиль  Тойота Лендкрузер 200, 2016г.,V=4608 Б   \n",
       "0  груз/автомобиль             ДАФ- XF 105, 2007г., V=12,9   \n",
       "1  груз/автомобиль             ДАФ -XF 95, 2006 г., V=12,6   \n",
       "2  лег/автомобиль              Тойота Матрикс, 2010, V=1,8   \n",
       "0       автомобиль                        РАФ 2203, 1987г.   \n",
       "0              NaN                                     NaN   \n",
       "1              NaN                                     NaN   \n",
       "0       автомобиль   Тойота Лендкрузкр 150, 2013г., V3058Б   \n",
       "0       автомобиль                       Тойота Лендкрузер   \n",
       "0              NaN                                     NaN   \n",
       "0       автомобиль                           Лексус RX 330   \n",
       "0       автомобиль         Тойота Камри, 2014 г., V=2494 Б   \n",
       "0       автомобиль                           Лексус LX 570   \n",
       "0       автомобиль                  Лексус LS 460, 2008 г.   \n",
       "0       автомобиль      Мерседес Бенц С500, 2010г., V=4,99   \n",
       "0       автомобиль           Тойота РАФ 4, 2014 г., V=1987   \n",
       "0       автомобиль         Лексус GX 470, 2005г., V=4664 Б   \n",
       "0       автомобиль            Ниссан Инфинити -QX4, 2001г.   \n",
       "0   лег/автомобиль      Тойота Харриер, 2000г., V=2997 см³   \n",
       "\n",
       "  хозяйствующий субъект  year  \n",
       "0                   NaN  1995  \n",
       "0                   NaN  2016  \n",
       "0                   NaN  2007  \n",
       "1                   NaN   NaN  \n",
       "2                   NaN   NaN  \n",
       "0                   NaN  1987  \n",
       "0                  ОсОО   NaN  \n",
       "1                  ОсОО   NaN  \n",
       "0                   NaN  2013  \n",
       "0                   NaN   NaN  \n",
       "0  недвижимое имущество   NaN  \n",
       "0                   NaN   NaN  \n",
       "0                   NaN   NaN  \n",
       "0                   NaN   NaN  \n",
       "0                   NaN   NaN  \n",
       "0                   NaN  2010  \n",
       "0                   NaN   NaN  \n",
       "0                   NaN  2005  \n",
       "0                   NaN  2001  \n",
       "0                 ОсОО   2000  "
      ]
     },
     "execution_count": 71,
     "metadata": {},
     "output_type": "execute_result"
    }
   ],
   "source": [
    "oe.tail(20)"
   ]
  },
  {
   "cell_type": "code",
   "execution_count": 72,
   "metadata": {},
   "outputs": [
    {
     "name": "stderr",
     "output_type": "stream",
     "text": [
      "/Users/philippk/anaconda3/envs/py36/lib/python3.6/site-packages/ipykernel/__main__.py:2: FutureWarning: currently extract(expand=None) means expand=False (return Index/Series/DataFrame) but in a future version of pandas this will be changed to expand=True (return DataFrame)\n",
      "  from ipykernel import kernelapp as app\n"
     ]
    }
   ],
   "source": [
    "# oe['year'] = \n",
    "oe['year'] = oe['сведения о транспортных средствах'].str.extract(r'(\\d+)г\\.').str.strip()"
   ]
  },
  {
   "cell_type": "markdown",
   "metadata": {},
   "source": [
    "## Store Data"
   ]
  },
  {
   "cell_type": "markdown",
   "metadata": {},
   "source": [
    "#### Store data as csv's"
   ]
  },
  {
   "cell_type": "code",
   "execution_count": 73,
   "metadata": {},
   "outputs": [],
   "source": [
    "for df, path in zip([deputies, money, re, oe], ['1_names.csv', '1_money.csv', '1_real_estate.csv', '1_other_property.csv']):\n",
    "    df.to_csv(f'../data/semi/{path}')"
   ]
  },
  {
   "cell_type": "markdown",
   "metadata": {},
   "source": [
    "#### Store data as one excel"
   ]
  },
  {
   "cell_type": "code",
   "execution_count": 74,
   "metadata": {},
   "outputs": [],
   "source": [
    "from pandas import ExcelWriter\n",
    "\n",
    "def save_xls(df_dict, xls_path):\n",
    "    writer = ExcelWriter(xls_path)\n",
    "    for name, df in df_dict.items():\n",
    "        df.to_excel(writer,name)\n",
    "    writer.save()"
   ]
  },
  {
   "cell_type": "code",
   "execution_count": 75,
   "metadata": {},
   "outputs": [],
   "source": [
    "d = {'deputies': deputies,\n",
    "     'money': money,\n",
    "     'real_estate': re,\n",
    "     'other_prop': oe}\n",
    "\n",
    "save_xls(d, '../data/semi/one_excel_table.xlsx')"
   ]
  },
  {
   "cell_type": "markdown",
   "metadata": {},
   "source": [
    "#### Store Sqlite"
   ]
  },
  {
   "cell_type": "code",
   "execution_count": 76,
   "metadata": {},
   "outputs": [],
   "source": [
    "import sqlite3"
   ]
  },
  {
   "cell_type": "code",
   "execution_count": 77,
   "metadata": {},
   "outputs": [],
   "source": [
    "conn = sqlite3.connect(\"../data/semi/declarations.db\")"
   ]
  },
  {
   "cell_type": "code",
   "execution_count": 78,
   "metadata": {},
   "outputs": [
    {
     "name": "stderr",
     "output_type": "stream",
     "text": [
      "/Users/philippk/anaconda3/envs/py36/lib/python3.6/site-packages/pandas/core/generic.py:1534: UserWarning: The spaces in these column names will not be changed. In pandas versions < 0.14, spaces were converted to underscores.\n",
      "  chunksize=chunksize, dtype=dtype)\n"
     ]
    },
    {
     "ename": "ValueError",
     "evalue": "Table 'deputies' already exists.",
     "output_type": "error",
     "traceback": [
      "\u001b[0;31m---------------------------------------------------------------------------\u001b[0m",
      "\u001b[0;31mValueError\u001b[0m                                Traceback (most recent call last)",
      "\u001b[0;32m<ipython-input-78-c76d72e58bc8>\u001b[0m in \u001b[0;36m<module>\u001b[0;34m()\u001b[0m\n\u001b[1;32m      1\u001b[0m \u001b[0;32mfor\u001b[0m \u001b[0mk\u001b[0m\u001b[0;34m,\u001b[0m \u001b[0mdf\u001b[0m \u001b[0;32min\u001b[0m \u001b[0md\u001b[0m\u001b[0;34m.\u001b[0m\u001b[0mitems\u001b[0m\u001b[0;34m(\u001b[0m\u001b[0;34m)\u001b[0m\u001b[0;34m:\u001b[0m\u001b[0;34m\u001b[0m\u001b[0m\n\u001b[0;32m----> 2\u001b[0;31m     \u001b[0mdf\u001b[0m\u001b[0;34m.\u001b[0m\u001b[0mto_sql\u001b[0m\u001b[0;34m(\u001b[0m\u001b[0mk\u001b[0m\u001b[0;34m,\u001b[0m \u001b[0mconn\u001b[0m\u001b[0;34m)\u001b[0m\u001b[0;34m\u001b[0m\u001b[0m\n\u001b[0m",
      "\u001b[0;32m/Users/philippk/anaconda3/envs/py36/lib/python3.6/site-packages/pandas/core/generic.py\u001b[0m in \u001b[0;36mto_sql\u001b[0;34m(self, name, con, flavor, schema, if_exists, index, index_label, chunksize, dtype)\u001b[0m\n\u001b[1;32m   1532\u001b[0m         sql.to_sql(self, name, con, flavor=flavor, schema=schema,\n\u001b[1;32m   1533\u001b[0m                    \u001b[0mif_exists\u001b[0m\u001b[0;34m=\u001b[0m\u001b[0mif_exists\u001b[0m\u001b[0;34m,\u001b[0m \u001b[0mindex\u001b[0m\u001b[0;34m=\u001b[0m\u001b[0mindex\u001b[0m\u001b[0;34m,\u001b[0m \u001b[0mindex_label\u001b[0m\u001b[0;34m=\u001b[0m\u001b[0mindex_label\u001b[0m\u001b[0;34m,\u001b[0m\u001b[0;34m\u001b[0m\u001b[0m\n\u001b[0;32m-> 1534\u001b[0;31m                    chunksize=chunksize, dtype=dtype)\n\u001b[0m\u001b[1;32m   1535\u001b[0m \u001b[0;34m\u001b[0m\u001b[0m\n\u001b[1;32m   1536\u001b[0m     def to_pickle(self, path, compression='infer',\n",
      "\u001b[0;32m/Users/philippk/anaconda3/envs/py36/lib/python3.6/site-packages/pandas/io/sql.py\u001b[0m in \u001b[0;36mto_sql\u001b[0;34m(frame, name, con, flavor, schema, if_exists, index, index_label, chunksize, dtype)\u001b[0m\n\u001b[1;32m    471\u001b[0m     pandas_sql.to_sql(frame, name, if_exists=if_exists, index=index,\n\u001b[1;32m    472\u001b[0m                       \u001b[0mindex_label\u001b[0m\u001b[0;34m=\u001b[0m\u001b[0mindex_label\u001b[0m\u001b[0;34m,\u001b[0m \u001b[0mschema\u001b[0m\u001b[0;34m=\u001b[0m\u001b[0mschema\u001b[0m\u001b[0;34m,\u001b[0m\u001b[0;34m\u001b[0m\u001b[0m\n\u001b[0;32m--> 473\u001b[0;31m                       chunksize=chunksize, dtype=dtype)\n\u001b[0m\u001b[1;32m    474\u001b[0m \u001b[0;34m\u001b[0m\u001b[0m\n\u001b[1;32m    475\u001b[0m \u001b[0;34m\u001b[0m\u001b[0m\n",
      "\u001b[0;32m/Users/philippk/anaconda3/envs/py36/lib/python3.6/site-packages/pandas/io/sql.py\u001b[0m in \u001b[0;36mto_sql\u001b[0;34m(self, frame, name, if_exists, index, index_label, schema, chunksize, dtype)\u001b[0m\n\u001b[1;32m   1509\u001b[0m                             \u001b[0mif_exists\u001b[0m\u001b[0;34m=\u001b[0m\u001b[0mif_exists\u001b[0m\u001b[0;34m,\u001b[0m \u001b[0mindex_label\u001b[0m\u001b[0;34m=\u001b[0m\u001b[0mindex_label\u001b[0m\u001b[0;34m,\u001b[0m\u001b[0;34m\u001b[0m\u001b[0m\n\u001b[1;32m   1510\u001b[0m                             dtype=dtype)\n\u001b[0;32m-> 1511\u001b[0;31m         \u001b[0mtable\u001b[0m\u001b[0;34m.\u001b[0m\u001b[0mcreate\u001b[0m\u001b[0;34m(\u001b[0m\u001b[0;34m)\u001b[0m\u001b[0;34m\u001b[0m\u001b[0m\n\u001b[0m\u001b[1;32m   1512\u001b[0m         \u001b[0mtable\u001b[0m\u001b[0;34m.\u001b[0m\u001b[0minsert\u001b[0m\u001b[0;34m(\u001b[0m\u001b[0mchunksize\u001b[0m\u001b[0;34m)\u001b[0m\u001b[0;34m\u001b[0m\u001b[0m\n\u001b[1;32m   1513\u001b[0m \u001b[0;34m\u001b[0m\u001b[0m\n",
      "\u001b[0;32m/Users/philippk/anaconda3/envs/py36/lib/python3.6/site-packages/pandas/io/sql.py\u001b[0m in \u001b[0;36mcreate\u001b[0;34m(self)\u001b[0m\n\u001b[1;32m    590\u001b[0m         \u001b[0;32mif\u001b[0m \u001b[0mself\u001b[0m\u001b[0;34m.\u001b[0m\u001b[0mexists\u001b[0m\u001b[0;34m(\u001b[0m\u001b[0;34m)\u001b[0m\u001b[0;34m:\u001b[0m\u001b[0;34m\u001b[0m\u001b[0m\n\u001b[1;32m    591\u001b[0m             \u001b[0;32mif\u001b[0m \u001b[0mself\u001b[0m\u001b[0;34m.\u001b[0m\u001b[0mif_exists\u001b[0m \u001b[0;34m==\u001b[0m \u001b[0;34m'fail'\u001b[0m\u001b[0;34m:\u001b[0m\u001b[0;34m\u001b[0m\u001b[0m\n\u001b[0;32m--> 592\u001b[0;31m                 \u001b[0;32mraise\u001b[0m \u001b[0mValueError\u001b[0m\u001b[0;34m(\u001b[0m\u001b[0;34m\"Table '%s' already exists.\"\u001b[0m \u001b[0;34m%\u001b[0m \u001b[0mself\u001b[0m\u001b[0;34m.\u001b[0m\u001b[0mname\u001b[0m\u001b[0;34m)\u001b[0m\u001b[0;34m\u001b[0m\u001b[0m\n\u001b[0m\u001b[1;32m    593\u001b[0m             \u001b[0;32melif\u001b[0m \u001b[0mself\u001b[0m\u001b[0;34m.\u001b[0m\u001b[0mif_exists\u001b[0m \u001b[0;34m==\u001b[0m \u001b[0;34m'replace'\u001b[0m\u001b[0;34m:\u001b[0m\u001b[0;34m\u001b[0m\u001b[0m\n\u001b[1;32m    594\u001b[0m                 \u001b[0mself\u001b[0m\u001b[0;34m.\u001b[0m\u001b[0mpd_sql\u001b[0m\u001b[0;34m.\u001b[0m\u001b[0mdrop_table\u001b[0m\u001b[0;34m(\u001b[0m\u001b[0mself\u001b[0m\u001b[0;34m.\u001b[0m\u001b[0mname\u001b[0m\u001b[0;34m,\u001b[0m \u001b[0mself\u001b[0m\u001b[0;34m.\u001b[0m\u001b[0mschema\u001b[0m\u001b[0;34m)\u001b[0m\u001b[0;34m\u001b[0m\u001b[0m\n",
      "\u001b[0;31mValueError\u001b[0m: Table 'deputies' already exists."
     ]
    }
   ],
   "source": [
    "for k, df in d.items():\n",
    "    df.to_sql(k, conn, if_exists='fail')"
   ]
  },
  {
   "cell_type": "code",
   "execution_count": 47,
   "metadata": {},
   "outputs": [],
   "source": [
    "conn.close()"
   ]
  },
  {
   "cell_type": "code",
   "execution_count": null,
   "metadata": {},
   "outputs": [],
   "source": []
  }
 ],
 "metadata": {
  "kernelspec": {
   "display_name": "Python 3",
   "language": "python",
   "name": "python3"
  },
  "language_info": {
   "codemirror_mode": {
    "name": "ipython",
    "version": 3
   },
   "file_extension": ".py",
   "mimetype": "text/x-python",
   "name": "python",
   "nbconvert_exporter": "python",
   "pygments_lexer": "ipython3",
   "version": "3.6.1"
  }
 },
 "nbformat": 4,
 "nbformat_minor": 2
}
