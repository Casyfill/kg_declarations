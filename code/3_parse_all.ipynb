{
 "cells": [
  {
   "cell_type": "code",
   "execution_count": 1,
   "metadata": {},
   "outputs": [],
   "source": [
    "import pandas as pd\n",
    "from glob import glob\n",
    "import os\n",
    "import json"
   ]
  },
  {
   "cell_type": "code",
   "execution_count": 2,
   "metadata": {},
   "outputs": [],
   "source": [
    "from tqdm import tqdm"
   ]
  },
  {
   "cell_type": "code",
   "execution_count": 3,
   "metadata": {},
   "outputs": [],
   "source": [
    "from parse_declaration import prepare_content, get_values, parse_declaration"
   ]
  },
  {
   "cell_type": "code",
   "execution_count": 4,
   "metadata": {},
   "outputs": [],
   "source": [
    "tables_path = os.path.join('..', 'data', '2017*.xlsx')"
   ]
  },
  {
   "cell_type": "code",
   "execution_count": 5,
   "metadata": {},
   "outputs": [],
   "source": [
    "declarations = []"
   ]
  },
  {
   "cell_type": "code",
   "execution_count": null,
   "metadata": {},
   "outputs": [],
   "source": []
  },
  {
   "cell_type": "code",
   "execution_count": 7,
   "metadata": {},
   "outputs": [
    {
     "name": "stdout",
     "output_type": "stream",
     "text": [
      "../data/201707172348227.xlsx\n",
      "../data/2017071723484910.xlsx\n"
     ]
    },
    {
     "name": "stderr",
     "output_type": "stream",
     "text": [
      "/Volumes/GoogleDrive/My Drive/se_projects/p02_N_declarations/code/parse_declaration.py:72: UserWarning: DataFrame columns are not unique, some columns will be omitted.\n",
      "  return odf.dropna(axis=1).to_dict(orient='record')\n",
      "/Volumes/GoogleDrive/My Drive/se_projects/p02_N_declarations/code/parse_declaration.py:63: UserWarning: DataFrame columns are not unique, some columns will be omitted.\n",
      "  return res_df.dropna(axis=1).to_dict(orient='record')\n"
     ]
    },
    {
     "name": "stdout",
     "output_type": "stream",
     "text": [
      "../data/201707172350173.xlsx\n",
      "../data/2017071723500415.xlsx\n",
      "../data/201707172350406.xlsx\n",
      "../data/2017071723502914.xlsx\n",
      "../data/201707172350518.xlsx\n",
      "../data/201707180057594.xlsx\n",
      "../data/2017071800582415.xlsx\n",
      "../data/2017072020044114.xlsx\n",
      "../data/201707180059406.xlsx\n",
      "../data/2017071801001413.xlsx\n",
      "../data/201707180101408.xlsx\n",
      "../data/201707180101122.xlsx\n",
      "../data/2017071801004710.xlsx\n",
      "../data/201707180102186.xlsx\n",
      "../data/201707201632226.xlsx\n",
      "../data/2017071802015215.xlsx\n",
      "../data/201707180200036.xlsx\n",
      "../data/201707180201104.xlsx\n",
      "../data/201707201632345.xlsx\n",
      "../data/2017071802022511.xlsx\n",
      "../data/2017071802030312.xlsx\n",
      "../data/2017071802033113.xlsx\n",
      "../data/2017071802041314.xlsx\n",
      "../data/201707180205225.xlsx\n",
      "../data/201707180204526.xlsx\n",
      "../data/201707180206319.xlsx\n",
      "../data/2017071802055513.xlsx\n",
      "../data/201707180207083.xlsx\n",
      "../data/201707180207320.xlsx\n",
      "../data/201707180351093.xlsx\n",
      "../data/201707180352083.xlsx\n",
      "../data/2017071803512512.xlsx\n",
      "../data/201707180351416.xlsx\n",
      "../data/201707180352338.xlsx\n",
      "../data/201707180352497.xlsx\n",
      "../data/2017071803532611.xlsx\n",
      "../data/201707180353508.xlsx\n",
      "../data/201707180354079.xlsx\n",
      "../data/201707180354273.xlsx\n",
      "../data/2017071803544511.xlsx\n",
      "../data/201707180355387.xlsx\n",
      "../data/201707180355582.xlsx\n",
      "../data/201707181540551.xlsx\n",
      "../data/201707181541276.xlsx\n",
      "../data/201707181541492.xlsx\n",
      "../data/2017071815421012.xlsx\n",
      "../data/201707181542512.xlsx\n",
      "../data/201707181542302.xlsx\n",
      "../data/201707181543101.xlsx\n",
      "../data/2017071815433112.xlsx\n",
      "../data/201707181543560.xlsx\n",
      "../data/201707181544192.xlsx\n",
      "../data/201707181544393.xlsx\n",
      "../data/201707181545044.xlsx\n",
      "../data/201707181547022.xlsx\n",
      "../data/2017071815463612.xlsx\n",
      "../data/2017071815472412.xlsx\n",
      "../data/2017071815474910.xlsx\n",
      "../data/201707181548266.xlsx\n",
      "../data/201707181549062.xlsx\n",
      "../data/201707181549282.xlsx\n",
      "../data/201707181549490.xlsx\n",
      "../data/2017071817240614.xlsx\n",
      "../data/201707181723391.xlsx\n",
      "../data/2017071815500813.xlsx\n",
      "../data/201707181722327.xlsx\n",
      "../data/2017071817242711.xlsx\n",
      "../data/201707181724468.xlsx\n",
      "../data/201707181725027.xlsx\n",
      "../data/201707181725451.xlsx\n",
      "../data/201707181726214.xlsx\n",
      "../data/201707181726044.xlsx\n",
      "../data/201707181726546.xlsx\n",
      "../data/2017071817271112.xlsx\n",
      "../data/201707181727361.xlsx\n",
      "../data/201707172351168.xlsx\n",
      "../data/201707201632499.xlsx\n",
      "../data/201707181728393.xlsx\n",
      "../data/201707181728570.xlsx\n",
      "../data/201707181729150.xlsx\n",
      "../data/201707181729344.xlsx\n",
      "../data/201707181729505.xlsx\n",
      "../data/201707181730087.xlsx\n",
      "../data/2017071817302511.xlsx\n",
      "../data/201707181730446.xlsx\n",
      "../data/2017071817310913.xlsx\n",
      "../data/201707181731296.xlsx\n",
      "../data/2017071817314810.xlsx\n",
      "../data/2017071817321014.xlsx\n",
      "../data/201707181732486.xlsx\n",
      "../data/201707201633133.xlsx\n",
      "../data/201707181734024.xlsx\n",
      "../data/2017071817342114.xlsx\n",
      "../data/2017071817344211.xlsx\n",
      "../data/201707201547396.xlsx\n",
      "../data/201707201633262.xlsx\n",
      "../data/201707201546380.xlsx\n",
      "../data/2017071817350113.xlsx\n",
      "../data/201707201547575.xlsx\n",
      "../data/201707201633396.xlsx\n",
      "../data/2017072015484013.xlsx\n",
      "../data/201707201550142.xlsx\n",
      "../data/201707201553098.xlsx\n",
      "../data/201707201548598.xlsx\n",
      "../data/201707201553585.xlsx\n",
      "../data/201707201553313.xlsx\n",
      "../data/2017072015542511.xlsx\n",
      "../data/201707201554457.xlsx\n",
      "../data/201707201555107.xlsx\n",
      "../data/201707201556138.xlsx\n",
      "../data/2017072015564214.xlsx\n",
      "../data/2017072015570515.xlsx\n",
      "../data/2017072015572413.xlsx\n",
      "../data/2017072015574912.xlsx\n",
      "../data/201707201558281.xlsx\n",
      "../data/2017071817252413.xlsx\n"
     ]
    }
   ],
   "source": [
    "for path in glob(tables_path):\n",
    "    print(path)\n",
    "    df = pd.read_excel(path, index_col=None)\n",
    "    \n",
    "    declarations.append(parse_declaration(df))"
   ]
  },
  {
   "cell_type": "code",
   "execution_count": 9,
   "metadata": {},
   "outputs": [
    {
     "data": {
      "text/plain": [
       "{'date': '31/_12/2016г.',\n",
       " 'deputy': {'income': ['997 146 с. -по месту основной работы',\n",
       "   '714 546 с.-пенсия'],\n",
       "  'other_estate': [],\n",
       "  'real_estate': [{'наименование': 'дом', 'площадь (кв.м)': 172}],\n",
       "  'spendeturs': []},\n",
       " 'relatives': {'income': [],\n",
       "  'other_estate': [{'наименование': 'лег/автомобиль ',\n",
       "    'сведения о транспортных средствах': 'Тойота Камри, 2015г. V=2494Б'}],\n",
       "  'real_estate': [{'наименование': 'квартира', 'площадь (кв.м)': 187}],\n",
       "  'spendeturs': []},\n",
       " 'Должность декларанта': 'Депутат',\n",
       " 'Наименование государственного/ муниципального органа': 'Жогорку Кенеш Кыргызской Республики',\n",
       " 'ФИО декларанта': 'Абдылдаев Мыктыбек Юсупович'}"
      ]
     },
     "execution_count": 9,
     "metadata": {},
     "output_type": "execute_result"
    }
   ],
   "source": [
    "declarations[0]"
   ]
  },
  {
   "cell_type": "code",
   "execution_count": 12,
   "metadata": {},
   "outputs": [],
   "source": [
    "data = {\"data\": declarations}\n",
    "\n",
    "with open('../data/all_declarations.json', 'w') as f:\n",
    "    json.dump(data, f, ensure_ascii=False)"
   ]
  },
  {
   "cell_type": "code",
   "execution_count": 11,
   "metadata": {},
   "outputs": [
    {
     "data": {
      "text/plain": [
       "\u001b[0;31mSignature:\u001b[0m \u001b[0mjson\u001b[0m\u001b[0;34m.\u001b[0m\u001b[0mdump\u001b[0m\u001b[0;34m(\u001b[0m\u001b[0mobj\u001b[0m\u001b[0;34m,\u001b[0m \u001b[0mfp\u001b[0m\u001b[0;34m,\u001b[0m \u001b[0;34m*\u001b[0m\u001b[0;34m,\u001b[0m \u001b[0mskipkeys\u001b[0m\u001b[0;34m=\u001b[0m\u001b[0;32mFalse\u001b[0m\u001b[0;34m,\u001b[0m \u001b[0mensure_ascii\u001b[0m\u001b[0;34m=\u001b[0m\u001b[0;32mTrue\u001b[0m\u001b[0;34m,\u001b[0m \u001b[0mcheck_circular\u001b[0m\u001b[0;34m=\u001b[0m\u001b[0;32mTrue\u001b[0m\u001b[0;34m,\u001b[0m \u001b[0mallow_nan\u001b[0m\u001b[0;34m=\u001b[0m\u001b[0;32mTrue\u001b[0m\u001b[0;34m,\u001b[0m \u001b[0mcls\u001b[0m\u001b[0;34m=\u001b[0m\u001b[0;32mNone\u001b[0m\u001b[0;34m,\u001b[0m \u001b[0mindent\u001b[0m\u001b[0;34m=\u001b[0m\u001b[0;32mNone\u001b[0m\u001b[0;34m,\u001b[0m \u001b[0mseparators\u001b[0m\u001b[0;34m=\u001b[0m\u001b[0;32mNone\u001b[0m\u001b[0;34m,\u001b[0m \u001b[0mdefault\u001b[0m\u001b[0;34m=\u001b[0m\u001b[0;32mNone\u001b[0m\u001b[0;34m,\u001b[0m \u001b[0msort_keys\u001b[0m\u001b[0;34m=\u001b[0m\u001b[0;32mFalse\u001b[0m\u001b[0;34m,\u001b[0m \u001b[0;34m**\u001b[0m\u001b[0mkw\u001b[0m\u001b[0;34m)\u001b[0m\u001b[0;34m\u001b[0m\u001b[0m\n",
       "\u001b[0;31mDocstring:\u001b[0m\n",
       "Serialize ``obj`` as a JSON formatted stream to ``fp`` (a\n",
       "``.write()``-supporting file-like object).\n",
       "\n",
       "If ``skipkeys`` is true then ``dict`` keys that are not basic types\n",
       "(``str``, ``int``, ``float``, ``bool``, ``None``) will be skipped\n",
       "instead of raising a ``TypeError``.\n",
       "\n",
       "If ``ensure_ascii`` is false, then the strings written to ``fp`` can\n",
       "contain non-ASCII characters if they appear in strings contained in\n",
       "``obj``. Otherwise, all such characters are escaped in JSON strings.\n",
       "\n",
       "If ``check_circular`` is false, then the circular reference check\n",
       "for container types will be skipped and a circular reference will\n",
       "result in an ``OverflowError`` (or worse).\n",
       "\n",
       "If ``allow_nan`` is false, then it will be a ``ValueError`` to\n",
       "serialize out of range ``float`` values (``nan``, ``inf``, ``-inf``)\n",
       "in strict compliance of the JSON specification, instead of using the\n",
       "JavaScript equivalents (``NaN``, ``Infinity``, ``-Infinity``).\n",
       "\n",
       "If ``indent`` is a non-negative integer, then JSON array elements and\n",
       "object members will be pretty-printed with that indent level. An indent\n",
       "level of 0 will only insert newlines. ``None`` is the most compact\n",
       "representation.\n",
       "\n",
       "If specified, ``separators`` should be an ``(item_separator, key_separator)``\n",
       "tuple.  The default is ``(', ', ': ')`` if *indent* is ``None`` and\n",
       "``(',', ': ')`` otherwise.  To get the most compact JSON representation,\n",
       "you should specify ``(',', ':')`` to eliminate whitespace.\n",
       "\n",
       "``default(obj)`` is a function that should return a serializable version\n",
       "of obj or raise TypeError. The default simply raises TypeError.\n",
       "\n",
       "If *sort_keys* is true (default: ``False``), then the output of\n",
       "dictionaries will be sorted by key.\n",
       "\n",
       "To use a custom ``JSONEncoder`` subclass (e.g. one that overrides the\n",
       "``.default()`` method to serialize additional types), specify it with\n",
       "the ``cls`` kwarg; otherwise ``JSONEncoder`` is used.\n",
       "\u001b[0;31mFile:\u001b[0m      ~/anaconda3/envs/py36/lib/python3.6/json/__init__.py\n",
       "\u001b[0;31mType:\u001b[0m      function\n"
      ]
     },
     "metadata": {},
     "output_type": "display_data"
    }
   ],
   "source": [
    "?json.dump"
   ]
  },
  {
   "cell_type": "code",
   "execution_count": null,
   "metadata": {},
   "outputs": [],
   "source": []
  }
 ],
 "metadata": {
  "kernelspec": {
   "display_name": "Python 3",
   "language": "python",
   "name": "python3"
  },
  "language_info": {
   "codemirror_mode": {
    "name": "ipython",
    "version": 3
   },
   "file_extension": ".py",
   "mimetype": "text/x-python",
   "name": "python",
   "nbconvert_exporter": "python",
   "pygments_lexer": "ipython3",
   "version": "3.6.1"
  }
 },
 "nbformat": 4,
 "nbformat_minor": 2
}
